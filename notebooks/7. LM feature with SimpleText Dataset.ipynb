{
 "cells": [
  {
   "cell_type": "code",
   "execution_count": 1,
   "metadata": {
    "pycharm": {
     "name": "#%%\n"
    }
   },
   "outputs": [
    {
     "name": "stderr",
     "output_type": "stream",
     "text": [
      "[nltk_data] Downloading package averaged_perceptron_tagger to\n",
      "[nltk_data]     C:\\Users\\Antonio\\AppData\\Roaming\\nltk_data...\n",
      "[nltk_data]   Package averaged_perceptron_tagger is already up-to-\n",
      "[nltk_data]       date!\n"
     ]
    },
    {
     "data": {
      "text/plain": [
       "True"
      ]
     },
     "execution_count": 1,
     "metadata": {},
     "output_type": "execute_result"
    }
   ],
   "source": [
    "import pandas as pd\n",
    "from pathlib import Path\n",
    "import torch\n",
    "import transformers\n",
    "import random\n",
    "import transformers\n",
    "from nltk import pos_tag\n",
    "import nltk\n",
    "import matplotlib.pyplot as plt\n",
    "import seaborn as sns\n",
    "import numpy as np\n",
    "nltk.download('averaged_perceptron_tagger')"
   ]
  },
  {
   "cell_type": "code",
   "execution_count": 2,
   "metadata": {
    "pycharm": {
     "name": "#%%\n"
    }
   },
   "outputs": [],
   "source": [
    "sns.set_theme();"
   ]
  },
  {
   "cell_type": "code",
   "execution_count": 3,
   "metadata": {
    "pycharm": {
     "name": "#%%\n"
    }
   },
   "outputs": [],
   "source": [
    "RESOURCES_DIR = Path(\"../resources\")\n",
    "DATASETS_PATH = RESOURCES_DIR / \"datasets\"\n",
    "WORD_EMBEDDINGS_NAME = \"glove.42B.300d\"\n",
    "DUMPS_DIR = RESOURCES_DIR / \"DUMPS\""
   ]
  },
  {
   "cell_type": "code",
   "execution_count": 4,
   "metadata": {
    "pycharm": {
     "name": "#%%\n"
    }
   },
   "outputs": [],
   "source": [
    "SIMPLETEXT_DATASET_PATH = DATASETS_PATH / \"simpleText/task 3\"\n",
    "SIMPLETEXT_TRAIN_PATH = SIMPLETEXT_DATASET_PATH / \"train\""
   ]
  },
  {
   "cell_type": "code",
   "execution_count": 5,
   "metadata": {
    "pycharm": {
     "name": "#%%\n"
    }
   },
   "outputs": [],
   "source": [
    "complex_text = pd.read_csv(SIMPLETEXT_TRAIN_PATH / \"simpleText.train.complex.txt\", header=None, sep=\"\\t\", names=[\"original_text\"])\n",
    "simple_text = pd.read_csv(SIMPLETEXT_TRAIN_PATH / \"simpleText.train.simple.txt\", header=None, sep=\"\\t\",names=[\"simple_text\"])"
   ]
  },
  {
   "cell_type": "code",
   "execution_count": 6,
   "metadata": {
    "pycharm": {
     "name": "#%%\n"
    }
   },
   "outputs": [
    {
     "data": {
      "text/html": [
       "<div>\n",
       "<style scoped>\n",
       "    .dataframe tbody tr th:only-of-type {\n",
       "        vertical-align: middle;\n",
       "    }\n",
       "\n",
       "    .dataframe tbody tr th {\n",
       "        vertical-align: top;\n",
       "    }\n",
       "\n",
       "    .dataframe thead th {\n",
       "        text-align: right;\n",
       "    }\n",
       "</style>\n",
       "<table border=\"1\" class=\"dataframe\">\n",
       "  <thead>\n",
       "    <tr style=\"text-align: right;\">\n",
       "      <th></th>\n",
       "      <th>original_text</th>\n",
       "      <th>simple_text</th>\n",
       "    </tr>\n",
       "  </thead>\n",
       "  <tbody>\n",
       "    <tr>\n",
       "      <th>0</th>\n",
       "      <td>In the modern era of automation and robotics, ...</td>\n",
       "      <td>Current academic and industrial research is in...</td>\n",
       "    </tr>\n",
       "    <tr>\n",
       "      <th>1</th>\n",
       "      <td>With the ever increasing number of unmanned ae...</td>\n",
       "      <td>Drones are increasingly used in the civilian a...</td>\n",
       "    </tr>\n",
       "    <tr>\n",
       "      <th>2</th>\n",
       "      <td>Due to guidelines set by the governments regar...</td>\n",
       "      <td>Governments set guidelines on the operation ce...</td>\n",
       "    </tr>\n",
       "    <tr>\n",
       "      <th>3</th>\n",
       "      <td>In an attempt to achieve the above mentioned t...</td>\n",
       "      <td>Researchers propose data-driven solutions allo...</td>\n",
       "    </tr>\n",
       "    <tr>\n",
       "      <th>4</th>\n",
       "      <td>Derived from the classic image classification ...</td>\n",
       "      <td>The algorithm, based on the Inception model, d...</td>\n",
       "    </tr>\n",
       "    <tr>\n",
       "      <th>...</th>\n",
       "      <td>...</td>\n",
       "      <td>...</td>\n",
       "    </tr>\n",
       "    <tr>\n",
       "      <th>643</th>\n",
       "      <td>Bodybuilders generally train with moderate loa...</td>\n",
       "      <td>Bodybuilders train with moderate loads and sho...</td>\n",
       "    </tr>\n",
       "    <tr>\n",
       "      <th>644</th>\n",
       "      <td>Powerlifters, on the other hand, routinely tra...</td>\n",
       "      <td>Powerlifters, on the other hand, train with hi...</td>\n",
       "    </tr>\n",
       "    <tr>\n",
       "      <th>645</th>\n",
       "      <td>Although both groups are known to display impr...</td>\n",
       "      <td>Although both groups are known to display impr...</td>\n",
       "    </tr>\n",
       "    <tr>\n",
       "      <th>646</th>\n",
       "      <td>It has been shown that many factors mediate th...</td>\n",
       "      <td>It has been shown that many factors mediate th...</td>\n",
       "    </tr>\n",
       "    <tr>\n",
       "      <th>647</th>\n",
       "      <td>Therefore, the purpose of this paper is twofol...</td>\n",
       "      <td>Therefore, the purpose of this paper is to rev...</td>\n",
       "    </tr>\n",
       "  </tbody>\n",
       "</table>\n",
       "<p>648 rows × 2 columns</p>\n",
       "</div>"
      ],
      "text/plain": [
       "                                         original_text  \\\n",
       "0    In the modern era of automation and robotics, ...   \n",
       "1    With the ever increasing number of unmanned ae...   \n",
       "2    Due to guidelines set by the governments regar...   \n",
       "3    In an attempt to achieve the above mentioned t...   \n",
       "4    Derived from the classic image classification ...   \n",
       "..                                                 ...   \n",
       "643  Bodybuilders generally train with moderate loa...   \n",
       "644  Powerlifters, on the other hand, routinely tra...   \n",
       "645  Although both groups are known to display impr...   \n",
       "646  It has been shown that many factors mediate th...   \n",
       "647  Therefore, the purpose of this paper is twofol...   \n",
       "\n",
       "                                           simple_text  \n",
       "0    Current academic and industrial research is in...  \n",
       "1    Drones are increasingly used in the civilian a...  \n",
       "2    Governments set guidelines on the operation ce...  \n",
       "3    Researchers propose data-driven solutions allo...  \n",
       "4    The algorithm, based on the Inception model, d...  \n",
       "..                                                 ...  \n",
       "643  Bodybuilders train with moderate loads and sho...  \n",
       "644  Powerlifters, on the other hand, train with hi...  \n",
       "645  Although both groups are known to display impr...  \n",
       "646  It has been shown that many factors mediate th...  \n",
       "647  Therefore, the purpose of this paper is to rev...  \n",
       "\n",
       "[648 rows x 2 columns]"
      ]
     },
     "execution_count": 6,
     "metadata": {},
     "output_type": "execute_result"
    }
   ],
   "source": [
    "sentences_pairs = pd.concat([complex_text, simple_text], axis=1)\n",
    "sentences_pairs"
   ]
  },
  {
   "cell_type": "code",
   "execution_count": 7,
   "metadata": {
    "pycharm": {
     "name": "#%%\n"
    }
   },
   "outputs": [
    {
     "name": "stderr",
     "output_type": "stream",
     "text": [
      "c:\\users\\antonio\\pycharmprojects\\simpletextclef\\venv\\lib\\site-packages\\transformers\\models\\auto\\modeling_auto.py:742: FutureWarning: The class `AutoModelWithLMHead` is deprecated and will be removed in a future version. Please use `AutoModelForCausalLM` for causal language models, `AutoModelForMaskedLM` for masked language models and `AutoModelForSeq2SeqLM` for encoder-decoder models.\n",
      "  warnings.warn(\n"
     ]
    }
   ],
   "source": [
    "model = transformers.AutoModelWithLMHead.from_pretrained('lordtt13/COVID-SciBERT')\n",
    "tokenizer = transformers.AutoTokenizer.from_pretrained('lordtt13/COVID-SciBERT')"
   ]
  },
  {
   "cell_type": "code",
   "execution_count": 8,
   "metadata": {
    "pycharm": {
     "name": "#%%\n"
    }
   },
   "outputs": [],
   "source": [
    "def mask_sentence_prediction(text, topk=50):\n",
    "    #print(\"----------------------\")\n",
    "    sentence_tokens = [token[0] for token in tokenizer.backend_tokenizer.pre_tokenizer.pre_tokenize_str(text)]\n",
    "    pos_tagging_sentence = pos_tag(sentence_tokens)\n",
    "    #print(pos_tag(sentence_tokens))\n",
    "    #print(len(pos_tagging_sentence))\n",
    "    predictions = []\n",
    "    for i, (word, pos) in enumerate(pos_tagging_sentence):\n",
    "\n",
    "        #print(f\"i:{i}, word:{word}, pos:{pos}\")\n",
    "        if pos in ['NNS', 'NN', 'VBP', 'VBG', 'VBD']:\n",
    "            sentence_masked = sentence_tokens.copy()\n",
    "            sentence_masked[i] = \"[MASK]\"\n",
    "            sentence_final = \" \".join(sentence_masked)\n",
    "            #print(sentence_final)\n",
    "            inputs = tokenizer(sentence_final, return_tensors=\"pt\")\n",
    "            token_logits = model(**inputs).logits\n",
    "            mask_token_index = torch.where(inputs.input_ids == tokenizer.mask_token_id)[1]\n",
    "            mask_token_logits = token_logits[0,mask_token_index,:]\n",
    "            top_n_tokens = torch.topk(mask_token_logits,topk,dim=1).indices[0].tolist()\n",
    "            predicted_tokens = [tokenizer.decode([token]) for token in top_n_tokens]\n",
    "            if word in predicted_tokens:\n",
    "                predictions.append(predicted_tokens.index(word))\n",
    "\n",
    "\n",
    "    predictions = [np.log(pred+1) for pred in predictions]\n",
    "    #print(predictions)\n",
    "    if len(predictions) == 0:\n",
    "            return np.log(1 + topk*50)\n",
    "\n",
    "    value = np.quantile(predictions, 0.75)\n",
    "    return value"
   ]
  },
  {
   "cell_type": "code",
   "execution_count": 9,
   "metadata": {
    "pycharm": {
     "name": "#%%\n"
    }
   },
   "outputs": [],
   "source": [
    "#mask_sentence_prediction(\"The computational efficiency of MAVNet enables the drone to fly at high speeds of up to 6m/sec.\")"
   ]
  },
  {
   "cell_type": "code",
   "execution_count": 10,
   "metadata": {
    "pycharm": {
     "name": "#%%\n"
    }
   },
   "outputs": [],
   "source": [
    "def check_pair_sentence(complex, simple):\n",
    "    complex_feature = mask_sentence_prediction(complex)\n",
    "    simple_feature = mask_sentence_prediction(simple)\n",
    "    #print(f\"Complex feature: {complex_feature}. Simple feature: {simple_feature}\")\n",
    "    if complex_feature !=0:\n",
    "        value = simple_feature/complex_feature\n",
    "    else:\n",
    "        value = 1\n",
    "    if value > 5:\n",
    "        print(f\"Complex feature: {complex_feature}. Simple feature: {simple_feature}\")\n",
    "    return value\n",
    "    #return min(value,2)"
   ]
  },
  {
   "cell_type": "code",
   "execution_count": 11,
   "metadata": {
    "pycharm": {
     "name": "#%%\n"
    }
   },
   "outputs": [],
   "source": [
    "complex = \"The computational efficiency of MAVNet enables the drone to fly at high speeds of up to 6m/sec.\"\n",
    "simple = \"MAVNet computational efficiency enables the drone to fly up to 6m/sec.\""
   ]
  },
  {
   "cell_type": "code",
   "execution_count": 12,
   "metadata": {
    "pycharm": {
     "name": "#%%\n"
    }
   },
   "outputs": [
    {
     "data": {
      "text/plain": [
       "0.9866183394175266"
      ]
     },
     "execution_count": 12,
     "metadata": {},
     "output_type": "execute_result"
    }
   ],
   "source": [
    "check_pair_sentence(complex, simple)"
   ]
  },
  {
   "cell_type": "code",
   "execution_count": null,
   "metadata": {
    "pycharm": {
     "name": "#%%\n"
    }
   },
   "outputs": [
    {
     "name": "stdout",
     "output_type": "stream",
     "text": [
      "CPU times: total: 0 ns\n",
      "Wall time: 0 ns\n",
      "Complex feature: 1.3862943611198906. Simple feature: 7.824445930877619\n",
      "Complex feature: 1.3438196019210413. Simple feature: 7.824445930877619\n",
      "Complex feature: 0.27465307216702745. Simple feature: 7.824445930877619\n",
      "Complex feature: 0.6931471805599453. Simple feature: 7.824445930877619\n",
      "Complex feature: 0.34657359027997264. Simple feature: 2.727660557678851\n",
      "Complex feature: 0.34657359027997264. Simple feature: 2.668769039850659\n"
     ]
    }
   ],
   "source": [
    "%time\n",
    "results = []\n",
    "for i,row in sentences_pairs.iterrows():\n",
    "    value = check_pair_sentence(row['original_text'], row['simple_text'])\n",
    "    results.append(value)\n",
    "\n",
    "\n",
    "print(\"Finish\")"
   ]
  },
  {
   "cell_type": "code",
   "execution_count": null,
   "metadata": {
    "pycharm": {
     "name": "#%%\n"
    }
   },
   "outputs": [],
   "source": [
    "results"
   ]
  },
  {
   "cell_type": "code",
   "execution_count": null,
   "metadata": {
    "pycharm": {
     "name": "#%%\n"
    }
   },
   "outputs": [],
   "source": [
    "fig = plt.figure(figsize=(10,6))\n",
    "x = pd.Series(results)\n",
    "ax = sns.distplot(x,label=\"LM\", bins=[0.2,0.4,0.6,0.8,1,1.2,1.4,1.6,1.8,2], kde=False)\n",
    "fig.legend(labels=['LM'])\n",
    "ax.set(xlabel='LMFMR values', ylabel='Training Data Documents')\n",
    "plt.show()"
   ]
  },
  {
   "cell_type": "code",
   "execution_count": null,
   "metadata": {
    "pycharm": {
     "name": "#%%\n"
    }
   },
   "outputs": [],
   "source": []
  }
 ],
 "metadata": {
  "kernelspec": {
   "display_name": "Python 3 (ipykernel)",
   "language": "python",
   "name": "python3"
  },
  "language_info": {
   "codemirror_mode": {
    "name": "ipython",
    "version": 3
   },
   "file_extension": ".py",
   "mimetype": "text/x-python",
   "name": "python",
   "nbconvert_exporter": "python",
   "pygments_lexer": "ipython3",
   "version": "3.9.13"
  }
 },
 "nbformat": 4,
 "nbformat_minor": 1
}