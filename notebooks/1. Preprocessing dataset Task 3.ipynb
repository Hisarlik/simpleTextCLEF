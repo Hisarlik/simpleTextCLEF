{
 "cells": [
  {
   "cell_type": "code",
   "execution_count": 11,
   "metadata": {
    "collapsed": true
   },
   "outputs": [],
   "source": [
    "from pathlib import Path\n",
    "import pandas as pd\n",
    "import csv"
   ]
  },
  {
   "cell_type": "code",
   "execution_count": 12,
   "outputs": [],
   "source": [
    "experiments_root = Path('../resources/datasets')\n",
    "simple_text_path = experiments_root / \"simpleText\"\n",
    "simple_text_task3_path = simple_text_path / \"task 3\"\n",
    "simple_text_task3_train_path = simple_text_task3_path / \"train\""
   ],
   "metadata": {
    "collapsed": false,
    "pycharm": {
     "name": "#%%\n"
    }
   }
  },
  {
   "cell_type": "code",
   "execution_count": 13,
   "outputs": [],
   "source": [
    "def save_text_file(path, texts):\n",
    "    path.parent.mkdir(parents=True, exist_ok=True)\n",
    "    with open(path, 'w', encoding=\"utf8\") as f:\n",
    "        for line in texts:\n",
    "            f.write(line)\n",
    "            f.write('\\n')"
   ],
   "metadata": {
    "collapsed": false,
    "pycharm": {
     "name": "#%%\n"
    }
   }
  },
  {
   "cell_type": "code",
   "execution_count": 14,
   "outputs": [],
   "source": [
    "complex_data_path = simple_text_task3_train_path / \"simpletext_task3_train.csv\"\n",
    "simple_data_path = simple_text_task3_train_path / \"simpletext_task3_decorated_run.csv\""
   ],
   "metadata": {
    "collapsed": false,
    "pycharm": {
     "name": "#%%\n"
    }
   }
  },
  {
   "cell_type": "code",
   "execution_count": 15,
   "outputs": [
    {
     "data": {
      "text/plain": "                 snt_id                                         source_snt  \\\n0    G11.1_2892036907_1  In the modern era of automation and robotics, ...   \n1    G11.1_2892036907_2  With the ever increasing number of unmanned ae...   \n2    G11.1_2892036907_3  Due to guidelines set by the governments regar...   \n3    G11.1_2892036907_4  In an attempt to achieve the above mentioned t...   \n4    G11.1_2892036907_5  Derived from the classic image classification ...   \n..                  ...                                                ...   \n643             M9_41_2  Bodybuilders generally train with moderate loa...   \n644             M9_41_4  Powerlifters, on the other hand, routinely tra...   \n645             M9_41_3  Although both groups are known to display impr...   \n646             M9_41_4  It has been shown that many factors mediate th...   \n647             M9_41_5  Therefore, the purpose of this paper is twofol...   \n\n         doc_id query_id                        query_text  \n0    2892036907    G11.1                            drones  \n1    2892036907    G11.1                            drones  \n2    2892036907    G11.1                            drones  \n3    2892036907    G11.1                            drones  \n4    2892036907    G11.1                            drones  \n..          ...      ...                               ...  \n643          41       M9  Mechanisms of Muscle Hypertrophy  \n644          41       M9  Mechanisms of Muscle Hypertrophy  \n645          41       M9  Mechanisms of Muscle Hypertrophy  \n646          41       M9  Mechanisms of Muscle Hypertrophy  \n647          41       M9  Mechanisms of Muscle Hypertrophy  \n\n[648 rows x 5 columns]",
      "text/html": "<div>\n<style scoped>\n    .dataframe tbody tr th:only-of-type {\n        vertical-align: middle;\n    }\n\n    .dataframe tbody tr th {\n        vertical-align: top;\n    }\n\n    .dataframe thead th {\n        text-align: right;\n    }\n</style>\n<table border=\"1\" class=\"dataframe\">\n  <thead>\n    <tr style=\"text-align: right;\">\n      <th></th>\n      <th>snt_id</th>\n      <th>source_snt</th>\n      <th>doc_id</th>\n      <th>query_id</th>\n      <th>query_text</th>\n    </tr>\n  </thead>\n  <tbody>\n    <tr>\n      <th>0</th>\n      <td>G11.1_2892036907_1</td>\n      <td>In the modern era of automation and robotics, ...</td>\n      <td>2892036907</td>\n      <td>G11.1</td>\n      <td>drones</td>\n    </tr>\n    <tr>\n      <th>1</th>\n      <td>G11.1_2892036907_2</td>\n      <td>With the ever increasing number of unmanned ae...</td>\n      <td>2892036907</td>\n      <td>G11.1</td>\n      <td>drones</td>\n    </tr>\n    <tr>\n      <th>2</th>\n      <td>G11.1_2892036907_3</td>\n      <td>Due to guidelines set by the governments regar...</td>\n      <td>2892036907</td>\n      <td>G11.1</td>\n      <td>drones</td>\n    </tr>\n    <tr>\n      <th>3</th>\n      <td>G11.1_2892036907_4</td>\n      <td>In an attempt to achieve the above mentioned t...</td>\n      <td>2892036907</td>\n      <td>G11.1</td>\n      <td>drones</td>\n    </tr>\n    <tr>\n      <th>4</th>\n      <td>G11.1_2892036907_5</td>\n      <td>Derived from the classic image classification ...</td>\n      <td>2892036907</td>\n      <td>G11.1</td>\n      <td>drones</td>\n    </tr>\n    <tr>\n      <th>...</th>\n      <td>...</td>\n      <td>...</td>\n      <td>...</td>\n      <td>...</td>\n      <td>...</td>\n    </tr>\n    <tr>\n      <th>643</th>\n      <td>M9_41_2</td>\n      <td>Bodybuilders generally train with moderate loa...</td>\n      <td>41</td>\n      <td>M9</td>\n      <td>Mechanisms of Muscle Hypertrophy</td>\n    </tr>\n    <tr>\n      <th>644</th>\n      <td>M9_41_4</td>\n      <td>Powerlifters, on the other hand, routinely tra...</td>\n      <td>41</td>\n      <td>M9</td>\n      <td>Mechanisms of Muscle Hypertrophy</td>\n    </tr>\n    <tr>\n      <th>645</th>\n      <td>M9_41_3</td>\n      <td>Although both groups are known to display impr...</td>\n      <td>41</td>\n      <td>M9</td>\n      <td>Mechanisms of Muscle Hypertrophy</td>\n    </tr>\n    <tr>\n      <th>646</th>\n      <td>M9_41_4</td>\n      <td>It has been shown that many factors mediate th...</td>\n      <td>41</td>\n      <td>M9</td>\n      <td>Mechanisms of Muscle Hypertrophy</td>\n    </tr>\n    <tr>\n      <th>647</th>\n      <td>M9_41_5</td>\n      <td>Therefore, the purpose of this paper is twofol...</td>\n      <td>41</td>\n      <td>M9</td>\n      <td>Mechanisms of Muscle Hypertrophy</td>\n    </tr>\n  </tbody>\n</table>\n<p>648 rows × 5 columns</p>\n</div>"
     },
     "execution_count": 15,
     "metadata": {},
     "output_type": "execute_result"
    }
   ],
   "source": [
    "complex_data_df = pd.read_csv(complex_data_path, sep=\";\", usecols=[\"snt_id\", \"source_snt\", \"doc_id\", \"query_id\", \"query_text\"], dtype={\"doc_id\":str})\n",
    "complex_data_df"
   ],
   "metadata": {
    "collapsed": false,
    "pycharm": {
     "name": "#%%\n"
    }
   }
  },
  {
   "cell_type": "code",
   "execution_count": 16,
   "outputs": [],
   "source": [
    "complex_column_data = complex_data_df['source_snt'].tolist()\n",
    "save_text_file(simple_text_path / \"simpleText.train.complex.txt\", complex_column_data)"
   ],
   "metadata": {
    "collapsed": false,
    "pycharm": {
     "name": "#%%\n"
    }
   }
  },
  {
   "cell_type": "code",
   "execution_count": 18,
   "outputs": [
    {
     "data": {
      "text/plain": "                                                     0\n0    In the modern era of automation and robotics, ...\n1    With the ever increasing number of unmanned ae...\n2    Due to guidelines set by the governments regar...\n3    In an attempt to achieve the above mentioned t...\n4    Derived from the classic image classification ...\n..                                                 ...\n643  Bodybuilders generally train with moderate loa...\n644  Powerlifters, on the other hand, routinely tra...\n645  Although both groups are known to display impr...\n646  It has been shown that many factors mediate th...\n647  Therefore, the purpose of this paper is twofol...\n\n[648 rows x 1 columns]",
      "text/html": "<div>\n<style scoped>\n    .dataframe tbody tr th:only-of-type {\n        vertical-align: middle;\n    }\n\n    .dataframe tbody tr th {\n        vertical-align: top;\n    }\n\n    .dataframe thead th {\n        text-align: right;\n    }\n</style>\n<table border=\"1\" class=\"dataframe\">\n  <thead>\n    <tr style=\"text-align: right;\">\n      <th></th>\n      <th>0</th>\n    </tr>\n  </thead>\n  <tbody>\n    <tr>\n      <th>0</th>\n      <td>In the modern era of automation and robotics, ...</td>\n    </tr>\n    <tr>\n      <th>1</th>\n      <td>With the ever increasing number of unmanned ae...</td>\n    </tr>\n    <tr>\n      <th>2</th>\n      <td>Due to guidelines set by the governments regar...</td>\n    </tr>\n    <tr>\n      <th>3</th>\n      <td>In an attempt to achieve the above mentioned t...</td>\n    </tr>\n    <tr>\n      <th>4</th>\n      <td>Derived from the classic image classification ...</td>\n    </tr>\n    <tr>\n      <th>...</th>\n      <td>...</td>\n    </tr>\n    <tr>\n      <th>643</th>\n      <td>Bodybuilders generally train with moderate loa...</td>\n    </tr>\n    <tr>\n      <th>644</th>\n      <td>Powerlifters, on the other hand, routinely tra...</td>\n    </tr>\n    <tr>\n      <th>645</th>\n      <td>Although both groups are known to display impr...</td>\n    </tr>\n    <tr>\n      <th>646</th>\n      <td>It has been shown that many factors mediate th...</td>\n    </tr>\n    <tr>\n      <th>647</th>\n      <td>Therefore, the purpose of this paper is twofol...</td>\n    </tr>\n  </tbody>\n</table>\n<p>648 rows × 1 columns</p>\n</div>"
     },
     "execution_count": 18,
     "metadata": {},
     "output_type": "execute_result"
    }
   ],
   "source": [
    "df = pd.read_csv(simple_text_path / \"simpleText.train.complex.txt\", sep=\"\\t\", header=None)\n",
    "df"
   ],
   "metadata": {
    "collapsed": false,
    "pycharm": {
     "name": "#%%\n"
    }
   }
  },
  {
   "cell_type": "code",
   "execution_count": 19,
   "outputs": [
    {
     "data": {
      "text/plain": "    run_id  manual              snt_id  \\\n0      BTU       1  G11.1_2892036907_1   \n1      BTU       1  G11.1_2892036907_2   \n2      BTU       1  G11.1_2892036907_3   \n3      BTU       1  G11.1_2892036907_4   \n4      BTU       1  G11.1_2892036907_5   \n..     ...     ...                 ...   \n643     NP       1             M9_41_2   \n644     NP       1             M9_41_4   \n645     NP       1             M9_41_3   \n646     NP       1             M9_41_4   \n647     NP       1             M9_41_5   \n\n                                        simplified_snt  \n0    Current academic and industrial research is in...  \n1    Drones are increasingly used in the civilian a...  \n2    Governments set guidelines on the operation ce...  \n3    Researchers propose data-driven solutions allo...  \n4    The algorithm, based on the Inception model, d...  \n..                                                 ...  \n643  Bodybuilders train with moderate loads and sho...  \n644  Powerlifters, on the other hand, train with hi...  \n645  Although both groups are known to display impr...  \n646  It has been shown that many factors mediate th...  \n647  Therefore, the purpose of this paper is to rev...  \n\n[648 rows x 4 columns]",
      "text/html": "<div>\n<style scoped>\n    .dataframe tbody tr th:only-of-type {\n        vertical-align: middle;\n    }\n\n    .dataframe tbody tr th {\n        vertical-align: top;\n    }\n\n    .dataframe thead th {\n        text-align: right;\n    }\n</style>\n<table border=\"1\" class=\"dataframe\">\n  <thead>\n    <tr style=\"text-align: right;\">\n      <th></th>\n      <th>run_id</th>\n      <th>manual</th>\n      <th>snt_id</th>\n      <th>simplified_snt</th>\n    </tr>\n  </thead>\n  <tbody>\n    <tr>\n      <th>0</th>\n      <td>BTU</td>\n      <td>1</td>\n      <td>G11.1_2892036907_1</td>\n      <td>Current academic and industrial research is in...</td>\n    </tr>\n    <tr>\n      <th>1</th>\n      <td>BTU</td>\n      <td>1</td>\n      <td>G11.1_2892036907_2</td>\n      <td>Drones are increasingly used in the civilian a...</td>\n    </tr>\n    <tr>\n      <th>2</th>\n      <td>BTU</td>\n      <td>1</td>\n      <td>G11.1_2892036907_3</td>\n      <td>Governments set guidelines on the operation ce...</td>\n    </tr>\n    <tr>\n      <th>3</th>\n      <td>BTU</td>\n      <td>1</td>\n      <td>G11.1_2892036907_4</td>\n      <td>Researchers propose data-driven solutions allo...</td>\n    </tr>\n    <tr>\n      <th>4</th>\n      <td>BTU</td>\n      <td>1</td>\n      <td>G11.1_2892036907_5</td>\n      <td>The algorithm, based on the Inception model, d...</td>\n    </tr>\n    <tr>\n      <th>...</th>\n      <td>...</td>\n      <td>...</td>\n      <td>...</td>\n      <td>...</td>\n    </tr>\n    <tr>\n      <th>643</th>\n      <td>NP</td>\n      <td>1</td>\n      <td>M9_41_2</td>\n      <td>Bodybuilders train with moderate loads and sho...</td>\n    </tr>\n    <tr>\n      <th>644</th>\n      <td>NP</td>\n      <td>1</td>\n      <td>M9_41_4</td>\n      <td>Powerlifters, on the other hand, train with hi...</td>\n    </tr>\n    <tr>\n      <th>645</th>\n      <td>NP</td>\n      <td>1</td>\n      <td>M9_41_3</td>\n      <td>Although both groups are known to display impr...</td>\n    </tr>\n    <tr>\n      <th>646</th>\n      <td>NP</td>\n      <td>1</td>\n      <td>M9_41_4</td>\n      <td>It has been shown that many factors mediate th...</td>\n    </tr>\n    <tr>\n      <th>647</th>\n      <td>NP</td>\n      <td>1</td>\n      <td>M9_41_5</td>\n      <td>Therefore, the purpose of this paper is to rev...</td>\n    </tr>\n  </tbody>\n</table>\n<p>648 rows × 4 columns</p>\n</div>"
     },
     "execution_count": 19,
     "metadata": {},
     "output_type": "execute_result"
    }
   ],
   "source": [
    "simple_data_df = pd.read_csv(simple_data_path, sep=\";\", usecols=[\"run_id\", \"manual\", \"snt_id\", \"simplified_snt\"])\n",
    "simple_data_df"
   ],
   "metadata": {
    "collapsed": false,
    "pycharm": {
     "name": "#%%\n"
    }
   }
  },
  {
   "cell_type": "code",
   "execution_count": 20,
   "outputs": [],
   "source": [
    "simple_column_data = simple_data_df['simplified_snt'].tolist()\n",
    "save_text_file(simple_text_path / \"simpleText.train.simple.txt\", simple_column_data)"
   ],
   "metadata": {
    "collapsed": false,
    "pycharm": {
     "name": "#%%\n"
    }
   }
  },
  {
   "cell_type": "code",
   "execution_count": 21,
   "outputs": [
    {
     "data": {
      "text/plain": "                                          source_snt  \\\n0  In the modern era of automation and robotics, ...   \n1  With the ever increasing number of unmanned ae...   \n2  Due to guidelines set by the governments regar...   \n3  In an attempt to achieve the above mentioned t...   \n4  Derived from the classic image classification ...   \n\n                                      simplified_snt  \n0  Current academic and industrial research is in...  \n1  Drones are increasingly used in the civilian a...  \n2  Governments set guidelines on the operation ce...  \n3  Researchers propose data-driven solutions allo...  \n4  The algorithm, based on the Inception model, d...  ",
      "text/html": "<div>\n<style scoped>\n    .dataframe tbody tr th:only-of-type {\n        vertical-align: middle;\n    }\n\n    .dataframe tbody tr th {\n        vertical-align: top;\n    }\n\n    .dataframe thead th {\n        text-align: right;\n    }\n</style>\n<table border=\"1\" class=\"dataframe\">\n  <thead>\n    <tr style=\"text-align: right;\">\n      <th></th>\n      <th>source_snt</th>\n      <th>simplified_snt</th>\n    </tr>\n  </thead>\n  <tbody>\n    <tr>\n      <th>0</th>\n      <td>In the modern era of automation and robotics, ...</td>\n      <td>Current academic and industrial research is in...</td>\n    </tr>\n    <tr>\n      <th>1</th>\n      <td>With the ever increasing number of unmanned ae...</td>\n      <td>Drones are increasingly used in the civilian a...</td>\n    </tr>\n    <tr>\n      <th>2</th>\n      <td>Due to guidelines set by the governments regar...</td>\n      <td>Governments set guidelines on the operation ce...</td>\n    </tr>\n    <tr>\n      <th>3</th>\n      <td>In an attempt to achieve the above mentioned t...</td>\n      <td>Researchers propose data-driven solutions allo...</td>\n    </tr>\n    <tr>\n      <th>4</th>\n      <td>Derived from the classic image classification ...</td>\n      <td>The algorithm, based on the Inception model, d...</td>\n    </tr>\n  </tbody>\n</table>\n</div>"
     },
     "execution_count": 21,
     "metadata": {},
     "output_type": "execute_result"
    }
   ],
   "source": [
    "train_df = pd.concat([complex_data_df['source_snt'], simple_data_df['simplified_snt']], axis=1)\n",
    "train_df.head()"
   ],
   "metadata": {
    "collapsed": false,
    "pycharm": {
     "name": "#%%\n"
    }
   }
  },
  {
   "cell_type": "code",
   "execution_count": 22,
   "outputs": [
    {
     "data": {
      "text/plain": "                                            source_snt  \\\n0    In the modern era of automation and robotics, ...   \n1    With the ever increasing number of unmanned ae...   \n2    Due to guidelines set by the governments regar...   \n3    In an attempt to achieve the above mentioned t...   \n4    Derived from the classic image classification ...   \n..                                                 ...   \n643  Bodybuilders generally train with moderate loa...   \n644  Powerlifters, on the other hand, routinely tra...   \n645  Although both groups are known to display impr...   \n646  It has been shown that many factors mediate th...   \n647  Therefore, the purpose of this paper is twofol...   \n\n                                        simplified_snt  \n0    Current academic and industrial research is in...  \n1    Drones are increasingly used in the civilian a...  \n2    Governments set guidelines on the operation ce...  \n3    Researchers propose data-driven solutions allo...  \n4    The algorithm, based on the Inception model, d...  \n..                                                 ...  \n643  Bodybuilders train with moderate loads and sho...  \n644  Powerlifters, on the other hand, train with hi...  \n645  Although both groups are known to display impr...  \n646  It has been shown that many factors mediate th...  \n647  Therefore, the purpose of this paper is to rev...  \n\n[648 rows x 2 columns]",
      "text/html": "<div>\n<style scoped>\n    .dataframe tbody tr th:only-of-type {\n        vertical-align: middle;\n    }\n\n    .dataframe tbody tr th {\n        vertical-align: top;\n    }\n\n    .dataframe thead th {\n        text-align: right;\n    }\n</style>\n<table border=\"1\" class=\"dataframe\">\n  <thead>\n    <tr style=\"text-align: right;\">\n      <th></th>\n      <th>source_snt</th>\n      <th>simplified_snt</th>\n    </tr>\n  </thead>\n  <tbody>\n    <tr>\n      <th>0</th>\n      <td>In the modern era of automation and robotics, ...</td>\n      <td>Current academic and industrial research is in...</td>\n    </tr>\n    <tr>\n      <th>1</th>\n      <td>With the ever increasing number of unmanned ae...</td>\n      <td>Drones are increasingly used in the civilian a...</td>\n    </tr>\n    <tr>\n      <th>2</th>\n      <td>Due to guidelines set by the governments regar...</td>\n      <td>Governments set guidelines on the operation ce...</td>\n    </tr>\n    <tr>\n      <th>3</th>\n      <td>In an attempt to achieve the above mentioned t...</td>\n      <td>Researchers propose data-driven solutions allo...</td>\n    </tr>\n    <tr>\n      <th>4</th>\n      <td>Derived from the classic image classification ...</td>\n      <td>The algorithm, based on the Inception model, d...</td>\n    </tr>\n    <tr>\n      <th>...</th>\n      <td>...</td>\n      <td>...</td>\n    </tr>\n    <tr>\n      <th>643</th>\n      <td>Bodybuilders generally train with moderate loa...</td>\n      <td>Bodybuilders train with moderate loads and sho...</td>\n    </tr>\n    <tr>\n      <th>644</th>\n      <td>Powerlifters, on the other hand, routinely tra...</td>\n      <td>Powerlifters, on the other hand, train with hi...</td>\n    </tr>\n    <tr>\n      <th>645</th>\n      <td>Although both groups are known to display impr...</td>\n      <td>Although both groups are known to display impr...</td>\n    </tr>\n    <tr>\n      <th>646</th>\n      <td>It has been shown that many factors mediate th...</td>\n      <td>It has been shown that many factors mediate th...</td>\n    </tr>\n    <tr>\n      <th>647</th>\n      <td>Therefore, the purpose of this paper is twofol...</td>\n      <td>Therefore, the purpose of this paper is to rev...</td>\n    </tr>\n  </tbody>\n</table>\n<p>648 rows × 2 columns</p>\n</div>"
     },
     "execution_count": 22,
     "metadata": {},
     "output_type": "execute_result"
    }
   ],
   "source": [
    "train_df\n",
    "\n"
   ],
   "metadata": {
    "collapsed": false,
    "pycharm": {
     "name": "#%%\n"
    }
   }
  },
  {
   "cell_type": "code",
   "execution_count": 9,
   "outputs": [],
   "source": [],
   "metadata": {
    "collapsed": false,
    "pycharm": {
     "name": "#%%\n"
    }
   }
  }
 ],
 "metadata": {
  "kernelspec": {
   "display_name": "Python 3",
   "language": "python",
   "name": "python3"
  },
  "language_info": {
   "codemirror_mode": {
    "name": "ipython",
    "version": 2
   },
   "file_extension": ".py",
   "mimetype": "text/x-python",
   "name": "python",
   "nbconvert_exporter": "python",
   "pygments_lexer": "ipython2",
   "version": "2.7.6"
  }
 },
 "nbformat": 4,
 "nbformat_minor": 0
}