{
 "cells": [
  {
   "cell_type": "markdown",
   "source": [
    "Preprocessing notebook for simpleText shared task. You have to put original folder structure from simpletext (simpleText/task 3/train/simpletext_task3_train.csv) tradataset into resource/datasets folder. Preprocessed data are stored in folder: resource/datasets/simpleText ."
   ],
   "metadata": {
    "collapsed": false,
    "pycharm": {
     "name": "#%% md\n"
    }
   }
  },
  {
   "cell_type": "code",
   "execution_count": 54,
   "outputs": [],
   "source": [
    "from pathlib import Path\n",
    "import pandas as pd"
   ],
   "metadata": {
    "collapsed": false,
    "pycharm": {
     "name": "#%%\n"
    }
   }
  },
  {
   "cell_type": "code",
   "execution_count": null,
   "outputs": [],
   "source": [
    "experiments_root = Path('../resources/datasets')\n",
    "simple_text_path = experiments_root / \"simpleText\"\n",
    "simple_text_task3_path = simple_text_path / \"task 3\"\n",
    "simple_text_task3_train_path = simple_text_task3_path / \"train\"\n",
    "simple_text_task3_test_path = simple_text_task3_path / \"test\"\n",
    "simple_text_task3_test_output_path = experiments_root / \"simpleText_test\"\n",
    "simple_text_task3_run_output_path = experiments_root / \"simpleText_run\""
   ],
   "metadata": {
    "collapsed": false,
    "pycharm": {
     "name": "#%%\n"
    }
   }
  },
  {
   "cell_type": "code",
   "execution_count": null,
   "outputs": [],
   "source": [
    "def save_text_file(path, texts):\n",
    "    path.parent.mkdir(parents=True, exist_ok=True)\n",
    "    with open(path, 'w', encoding=\"utf8\") as f:\n",
    "        for line in texts:\n",
    "            f.write(line)\n",
    "            f.write('\\n')"
   ],
   "metadata": {
    "collapsed": false,
    "pycharm": {
     "name": "#%%\n"
    }
   }
  },
  {
   "cell_type": "code",
   "execution_count": null,
   "outputs": [],
   "source": [
    "complex_data_path = simple_text_task3_train_path / \"simpletext_task3_train.csv\"\n",
    "simple_data_path = simple_text_task3_train_path / \"simpletext_task3_decorated_run.csv\""
   ],
   "metadata": {
    "collapsed": false,
    "pycharm": {
     "name": "#%%\n"
    }
   }
  },
  {
   "cell_type": "code",
   "execution_count": null,
   "outputs": [],
   "source": [
    "complex_data_path"
   ],
   "metadata": {
    "collapsed": false,
    "pycharm": {
     "name": "#%%\n"
    }
   }
  },
  {
   "cell_type": "code",
   "execution_count": null,
   "outputs": [],
   "source": [
    "complex_data_df = pd.read_csv(complex_data_path, usecols=[\"snt_id\", \"source_snt\", \"doc_id\", \"query_id\", \"query_text\"], sep=\";\", dtype={\"doc_id\":str})\n",
    "complex_data_df"
   ],
   "metadata": {
    "collapsed": false,
    "pycharm": {
     "name": "#%%\n"
    }
   }
  },
  {
   "cell_type": "code",
   "execution_count": null,
   "outputs": [],
   "source": [
    "complex_column_data = complex_data_df['source_snt'].tolist()\n",
    "save_text_file(simple_text_task3_test_output_path / \"simpleText_test.test.complex.txt\", complex_column_data)"
   ],
   "metadata": {
    "collapsed": false,
    "pycharm": {
     "name": "#%%\n"
    }
   }
  },
  {
   "cell_type": "code",
   "execution_count": null,
   "outputs": [],
   "source": [
    "df = pd.read_csv(simple_text_task3_test_output_path / \"simpleText_test.test.complex.txt\", sep=\"\\t\", header=None)\n",
    "df"
   ],
   "metadata": {
    "collapsed": false,
    "pycharm": {
     "name": "#%%\n"
    }
   }
  },
  {
   "cell_type": "code",
   "execution_count": null,
   "outputs": [],
   "source": [
    "simple_data_df = pd.read_csv(simple_data_path, usecols=[\"run_id\", \"manual\", \"snt_id\", \"simplified_snt\"], sep=\";\")\n",
    "simple_data_df"
   ],
   "metadata": {
    "collapsed": false,
    "pycharm": {
     "name": "#%%\n"
    }
   }
  },
  {
   "cell_type": "code",
   "execution_count": null,
   "outputs": [],
   "source": [
    "simple_column_data = simple_data_df['simplified_snt'].tolist()\n",
    "save_text_file(simple_text_task3_test_output_path / \"simpleText_test.test.simple.txt\", simple_column_data)"
   ],
   "metadata": {
    "collapsed": false,
    "pycharm": {
     "name": "#%%\n"
    }
   }
  },
  {
   "cell_type": "code",
   "execution_count": null,
   "outputs": [],
   "source": [
    "train_df = pd.concat([complex_data_df['source_snt'], simple_data_df['simplified_snt']], axis=1)\n",
    "train_df.head()"
   ],
   "metadata": {
    "collapsed": false,
    "pycharm": {
     "name": "#%%\n"
    }
   }
  },
  {
   "cell_type": "code",
   "execution_count": null,
   "outputs": [],
   "source": [
    "train_df\n",
    "\n"
   ],
   "metadata": {
    "collapsed": false,
    "pycharm": {
     "name": "#%%\n"
    }
   }
  },
  {
   "cell_type": "code",
   "execution_count": null,
   "outputs": [],
   "source": [
    "test_data_path = simple_text_task3_test_path / \"simpletext_task3_test.csv\"\n",
    "test_data_path"
   ],
   "metadata": {
    "collapsed": false,
    "pycharm": {
     "name": "#%%\n"
    }
   }
  },
  {
   "cell_type": "code",
   "execution_count": null,
   "outputs": [],
   "source": [
    "test_data_df = pd.read_csv(test_data_path, usecols=[\"snt_id\", \"source_snt\", \"doc_id\", \"query_id\", \"query_text\"], dtype={\"doc_id\":str})"
   ],
   "metadata": {
    "collapsed": false,
    "pycharm": {
     "name": "#%%\n"
    }
   }
  },
  {
   "cell_type": "code",
   "execution_count": null,
   "outputs": [],
   "source": [
    "test_data_df"
   ],
   "metadata": {
    "collapsed": false,
    "pycharm": {
     "name": "#%%\n"
    }
   }
  },
  {
   "cell_type": "code",
   "execution_count": null,
   "outputs": [],
   "source": [
    "test_column_data = test_data_df['source_snt'].tolist()\n",
    "save_text_file(simple_text_task3_run_output_path / \"simpleText_run.test.complex.txt\", test_column_data)"
   ],
   "metadata": {
    "collapsed": false,
    "pycharm": {
     "name": "#%%\n"
    }
   }
  }
 ],
 "metadata": {
  "kernelspec": {
   "display_name": "Python 3",
   "language": "python",
   "name": "python3"
  },
  "language_info": {
   "codemirror_mode": {
    "name": "ipython",
    "version": 2
   },
   "file_extension": ".py",
   "mimetype": "text/x-python",
   "name": "python",
   "nbconvert_exporter": "python",
   "pygments_lexer": "ipython2",
   "version": "2.7.6"
  }
 },
 "nbformat": 4,
 "nbformat_minor": 0
}