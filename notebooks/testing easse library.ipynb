{
 "cells": [
  {
   "cell_type": "code",
   "execution_count": 1,
   "metadata": {
    "collapsed": true
   },
   "outputs": [],
   "source": [
    "from easse.sari import corpus_sari"
   ]
  },
  {
   "cell_type": "code",
   "execution_count": 2,
   "outputs": [],
   "source": [
    "predictions = ['Upper Sorbian is a minority language spoken by Sorbs in Germany in the historical province of Upper Lusatia ( Hornja ', 'It was on display as part of the American Treasures exhibition of the Library of Congress in Washington, D.C.', 'The Sveriges Riksbank Prize in Economic Sciences in Memory of Alfred Nobel is not a Nobel Prize.', 'A shoe is an item of footwear evolved at first to protect the human foot and later, additionally, as an item of decoration in itself.', 'Helicopter rotor, the rotary wing ( s ) of a rotorcraft such as a helicopter ', 'Of the eleven tropical cyclones that formed during the season, four affected land, with the most notable storm of the season being Hurricane I', 'In 2007/08 it had over 40,000 students studying 500 academic programmes and more than 10,000 staff, making it the largest single-site university in the', 'It is located at N35.0804 E73.9266 at a height of above sea level.']"
   ],
   "metadata": {
    "collapsed": false,
    "pycharm": {
     "name": "#%%\n"
    }
   }
  },
  {
   "cell_type": "code",
   "execution_count": 3,
   "outputs": [],
   "source": [
    "original_text = ['There are around 40,000 speakers of Upper Sorbian living in Saxony . Upper Sorbian is a minority language in Germany according to the European Charter for Regional or Minority Languages .', 'It is on permanent display as part of the American Treasures exhibition of the Library of Congress in Washington , D.C.', 'The Sveriges Riksbank Prize in Economic Sciences in Memory of Alfred Nobel , Until 2006 , the prize was officially called the Bank of Sweden Prize in Economics in Memory of Alfred Nobel .', 'A shoe is also an item of clothing .', 'ROTOR , a former radar project in the UK following the Second World War', 'The season officially started on May 15 , 1995 in the eastern Pacific , and on June 1 , 1995 in the central Pacific , and lasted until November 30 , 1995 .', 'In 2007-08 , it had over 40,000 students studying 500 academic programmes , and more than 10,000 staff and an annual income of # 637 million .', 'It is located at N35 .0804 E73 .9266 , at a height of 11,200 ft ( 3,410 m ) from sea level .']"
   ],
   "metadata": {
    "collapsed": false,
    "pycharm": {
     "name": "#%%\n"
    }
   }
  },
  {
   "cell_type": "code",
   "execution_count": 4,
   "outputs": [],
   "source": [
    "simple_text = [['There are around 40,000 speakers of Upper Sorbian living in Saxony . Upper Sorbian is a minority language in Germany according to the European Charter for Regional or Minority Languages .', 'It is on permanent display as part of the American Treasures exhibition of the Library of Congress in Washington , D.C.', 'The Sveriges Riksbank Prize in Economic Sciences in Memory of Alfred Nobel , Until 2006 , the prize was officially called the Bank of Sweden Prize in Economics in Memory of Alfred Nobel .', 'A shoe is also an item of clothing .', 'ROTOR , a former radar project in the UK following the Second World War', 'The season officially started on May 15 , 1995 in the eastern Pacific , and on June 1 , 1995 in the central Pacific , and lasted until November 30 , 1995 .', 'In 2007-08 , it had over 40,000 students studying 500 academic programmes , and more than 10,000 staff and an annual income of # 637 million .', 'It is located at N35 .0804 E73 .9266 , at a height of 11,200 ft ( 3,410 m ) from sea level .']]"
   ],
   "metadata": {
    "collapsed": false,
    "pycharm": {
     "name": "#%%\n"
    }
   }
  },
  {
   "cell_type": "code",
   "execution_count": 5,
   "outputs": [
    {
     "data": {
      "text/plain": "(8, 8, 1)"
     },
     "execution_count": 5,
     "metadata": {},
     "output_type": "execute_result"
    }
   ],
   "source": [
    "len(original_text), len(predictions), len(simple_text)"
   ],
   "metadata": {
    "collapsed": false,
    "pycharm": {
     "name": "#%%\n"
    }
   }
  },
  {
   "cell_type": "code",
   "execution_count": 6,
   "outputs": [
    {
     "name": "stdout",
     "output_type": "stream",
     "text": [
      "Sari score:  16.12599218439121\n"
     ]
    }
   ],
   "source": [
    "score = corpus_sari(original_text, predictions, simple_text)\n",
    "print(\"Sari score: \", score)"
   ],
   "metadata": {
    "collapsed": false,
    "pycharm": {
     "name": "#%%\n"
    }
   }
  },
  {
   "cell_type": "code",
   "execution_count": 7,
   "outputs": [],
   "source": [
    "import sacrebleu"
   ],
   "metadata": {
    "collapsed": false,
    "pycharm": {
     "name": "#%%\n"
    }
   }
  },
  {
   "cell_type": "code",
   "execution_count": 8,
   "outputs": [
    {
     "data": {
      "text/plain": "'1.5.1'"
     },
     "execution_count": 8,
     "metadata": {},
     "output_type": "execute_result"
    }
   ],
   "source": [
    "sacrebleu.__version__"
   ],
   "metadata": {
    "collapsed": false,
    "pycharm": {
     "name": "#%%\n"
    }
   }
  },
  {
   "cell_type": "code",
   "execution_count": 9,
   "outputs": [
    {
     "data": {
      "text/plain": "33.17472563619544"
     },
     "execution_count": 9,
     "metadata": {},
     "output_type": "execute_result"
    }
   ],
   "source": [
    "from easse.sari import corpus_sari\n",
    "\n",
    "corpus_sari(orig_sents=[\"About 95 species are currently accepted.\", \"The cat perched on the mat.\"],\n",
    "            sys_sents=[\"About 95 you now get in.\", \"Cat on mat.\"],\n",
    "            refs_sents=[[\"About 95 species are currently known.\", \"The cat sat on the mat.\"],\n",
    "                        [\"About 95 species are now accepted.\", \"The cat is on the mat.\"],\n",
    "                        [\"95 species are now accepted.\", \"The cat sat.\"]])"
   ],
   "metadata": {
    "collapsed": false,
    "pycharm": {
     "name": "#%%\n"
    }
   }
  },
  {
   "cell_type": "code",
   "execution_count": 9,
   "outputs": [],
   "source": [],
   "metadata": {
    "collapsed": false,
    "pycharm": {
     "name": "#%%\n"
    }
   }
  }
 ],
 "metadata": {
  "kernelspec": {
   "display_name": "Python 3",
   "language": "python",
   "name": "python3"
  },
  "language_info": {
   "codemirror_mode": {
    "name": "ipython",
    "version": 2
   },
   "file_extension": ".py",
   "mimetype": "text/x-python",
   "name": "python",
   "nbconvert_exporter": "python",
   "pygments_lexer": "ipython2",
   "version": "2.7.6"
  }
 },
 "nbformat": 4,
 "nbformat_minor": 0
}