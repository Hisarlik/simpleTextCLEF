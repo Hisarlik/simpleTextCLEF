{
 "cells": [
  {
   "cell_type": "code",
   "execution_count": 43,
   "metadata": {
    "collapsed": true,
    "pycharm": {
     "name": "#%%\n"
    }
   },
   "outputs": [],
   "source": [
    "from abc import ABC, abstractmethod\n",
    "import re\n",
    "from sacremoses import MosesTokenizer\n",
    "import Levenshtein\n",
    "import spacy\n",
    "import nltk\n",
    "import pickle\n",
    "import urllib\n",
    "import os\n",
    "import tarfile\n",
    "import zipfile\n",
    "import seaborn as sns\n",
    "import pandas as pd\n",
    "from tqdm import tqdm\n",
    "from pathlib import Path\n",
    "import numpy as np\n",
    "from string import punctuation\n",
    "import matplotlib.pyplot as plt\n",
    "nltk.download('stopwords', quiet=True)\n",
    "from nltk.corpus import stopwords\n",
    "from nltk import word_tokenize\n",
    "RESOURCES_DIR = Path(\"/Users/antoniomenta/PycharmProjects/simpleTextCLEF/resources\")\n",
    "DATASETS_PATH = RESOURCES_DIR / \"datasets\"\n",
    "WORD_EMBEDDINGS_NAME = \"glove.42B.300d\"\n",
    "DUMPS_DIR = RESOURCES_DIR / \"DUMPS\"\n",
    "\n",
    "stopwords = set(stopwords.words(\"english\"))"
   ]
  },
  {
   "cell_type": "code",
   "execution_count": 44,
   "outputs": [],
   "source": [
    "def ControlDivisionByZero(numerator, denominator):\n",
    "    return numerator / denominator if denominator != 0 else 0\n",
    "\n",
    "\n",
    "class FeatureAbstract(ABC):\n",
    "\n",
    "    @abstractmethod\n",
    "    def get_ratio(self, kwargs):\n",
    "        pass\n",
    "\n",
    "    @abstractmethod\n",
    "    def calculate_ratio(self, simple_text, original_text):\n",
    "        pass\n",
    "\n",
    "\n",
    "class Feature(FeatureAbstract):\n",
    "\n",
    "    def __init__(self, split, target_ratio):\n",
    "        self.split = split\n",
    "        self.target_ratio = target_ratio\n",
    "\n",
    "    def get_ratio(self, kwargs):\n",
    "        if not 'original_text_preprocessed' in kwargs:\n",
    "            kwargs['original_text_preprocessed'] = \"\"\n",
    "\n",
    "        if self.split == \"train\":\n",
    "            simple_text = kwargs.get('simple_text')\n",
    "            original_text = kwargs.get('original_text')\n",
    "            result_ratio = self.calculate_ratio(simple_text, original_text)\n",
    "\n",
    "        elif self.split == \"valid\" or self.split == \"test\":\n",
    "            result_ratio = self.target_ratio\n",
    "        else:\n",
    "            raise ValueError(\"stage value not supported\")\n",
    "        kwargs['original_text_preprocessed'] += f'{self.name}_{result_ratio} '\n",
    "        return kwargs\n",
    "\n",
    "    @property\n",
    "    def name(self):\n",
    "        class_name = self.__class__.__name__\n",
    "        name = \"\"\n",
    "        for word in re.findall('[A-Z][^A-Z]*', class_name):\n",
    "            if word: name += word[0]\n",
    "        if not name: name = class_name\n",
    "        return name\n",
    "\n",
    "\n",
    "class WordLengthRatio(Feature):\n",
    "\n",
    "    def __init__(self, stage, target_ratio):\n",
    "        super().__init__(stage, target_ratio)\n",
    "        if stage == \"train\":\n",
    "            self.tokenizer = MosesTokenizer(lang='en')\n",
    "\n",
    "    def calculate_ratio(self, simple_text, original_text):\n",
    "        return round(ControlDivisionByZero(\n",
    "            len(self.tokenizer.tokenize(simple_text)),\n",
    "            len(self.tokenizer.tokenize(original_text))), 2)\n",
    "\n",
    "\n",
    "class CharLengthRatio(Feature):\n",
    "\n",
    "    def __init__(self, stage, target_ratio):\n",
    "        super().__init__(stage, target_ratio)\n",
    "\n",
    "    def calculate_ratio(self, simple_text, original_text):\n",
    "        return round(ControlDivisionByZero(\n",
    "            len(simple_text),\n",
    "            len(original_text)), 2)\n",
    "\n",
    "\n",
    "class LevenshteinRatio(Feature):\n",
    "\n",
    "    def __init__(self, stage, target_ratio):\n",
    "        super().__init__(stage, target_ratio)\n",
    "\n",
    "    def calculate_ratio(self, simple_text, original_text):\n",
    "        simple_text = word_tokenize(simple_text)\n",
    "        original_text = word_tokenize(original_text)\n",
    "        return round(Levenshtein.seqratio(original_text,\n",
    "                                       simple_text), 2)\n",
    "\n",
    "\n",
    "class DependencyTreeDepthRatio(Feature):\n",
    "\n",
    "    def __init__(self, stage, target_ratio):\n",
    "        super().__init__(stage, target_ratio)\n",
    "        if stage == \"train\":\n",
    "            self.nlp = self.get_spacy_model()\n",
    "\n",
    "    def get_spacy_model(self):\n",
    "\n",
    "        model = 'en_core_web_sm'\n",
    "        if not spacy.util.is_package(model):\n",
    "            spacy.cli.download(model)\n",
    "            spacy.cli.link(model, model, force=True, model_path=spacy.util.get_package_path(model))\n",
    "        return spacy.load(model)\n",
    "\n",
    "    def calculate_ratio(self, simple_text, original_text):\n",
    "\n",
    "        result_ratio = round(ControlDivisionByZero(\n",
    "            self.get_dependency_tree_depth(simple_text),\n",
    "            self.get_dependency_tree_depth(original_text)), 2)\n",
    "\n",
    "        return result_ratio\n",
    "\n",
    "    def get_dependency_tree_depth(self, sentence):\n",
    "\n",
    "        def get_subtree_depth(node):\n",
    "            if len(list(node.children)) == 0:\n",
    "                return 0\n",
    "            return 1 + max([get_subtree_depth(child) for child in node.children])\n",
    "\n",
    "        tree_depths = [get_subtree_depth(spacy_sentence.root) for spacy_sentence in self.nlp(sentence).sents]\n",
    "        if len(tree_depths) == 0:\n",
    "            return 0\n",
    "        return max(tree_depths)\n",
    "\n",
    "\n",
    "class WordRankRatio(Feature):\n",
    "\n",
    "    def __init__(self, stage, target_ratio):\n",
    "        super().__init__(stage, target_ratio)\n",
    "        if stage == \"train\":\n",
    "            self.tokenizer = MosesTokenizer(lang='en')\n",
    "            self.word2rank = self._get_word2rank()\n",
    "            self.length_rank = len(self.word2rank)\n",
    "\n",
    "    def calculate_ratio(self, simple_text, original_text):\n",
    "\n",
    "        result_ratio = round(min(ControlDivisionByZero(self.get_lexical_complexity_score(simple_text),\n",
    "                                                       self.get_lexical_complexity_score(original_text)),\n",
    "                                 2), 2)\n",
    "\n",
    "        return result_ratio\n",
    "\n",
    "    def get_lexical_complexity_score(self, sentence, quantile_value=0.75):\n",
    "\n",
    "        words = self.tokenizer.tokenize(self._remove_stopwords(self._remove_punctuation(sentence)))\n",
    "        words = [word for word in words if word in self.word2rank]\n",
    "        if len(words) == 0:\n",
    "            return np.log(1 + self.length_rank)\n",
    "        return np.quantile([self._get_rank(word) for word in words], quantile_value)\n",
    "\n",
    "    def _remove_punctuation(self, text):\n",
    "        return ' '.join([word for word in self.tokenizer.tokenize(text) if not self._is_punctuation(word)])\n",
    "\n",
    "    def _remove_stopwords(self, text):\n",
    "        return ' '.join([w for w in self.tokenizer.tokenize(text) if w.lower() not in stopwords])\n",
    "\n",
    "    def _is_punctuation(self, word):\n",
    "        return ''.join([char for char in word if char not in punctuation]) == ''\n",
    "\n",
    "    def _get_rank(self, word):\n",
    "        rank = self.word2rank.get(word, self.length_rank)\n",
    "        return np.log(1 + rank)\n",
    "\n",
    "    def _get_word2rank(self, vocab_size=np.inf):\n",
    "        model_filepath = DUMPS_DIR / f\"{WORD_EMBEDDINGS_NAME}.pk\"\n",
    "        if model_filepath.exists():\n",
    "            with open(model_filepath, 'rb') as f:\n",
    "                model = pickle.load(f)\n",
    "            return model\n",
    "        else:\n",
    "            print(\"Downloading glove.42B.300d ...\")\n",
    "            self._download_glove(model_name='glove.42B.300d', dest_dir=str(DUMPS_DIR))\n",
    "            print(\"Preprocessing word2rank...\")\n",
    "            DUMPS_DIR.mkdir(parents=True, exist_ok=True)\n",
    "            WORD_EMBEDDINGS_PATH = DUMPS_DIR / f'{WORD_EMBEDDINGS_NAME}.txt'\n",
    "            lines_generator = self._yield_lines(WORD_EMBEDDINGS_PATH)\n",
    "            word2rank = {}\n",
    "            # next(lines_generator)\n",
    "            for i, line in enumerate(lines_generator):\n",
    "                if i >= vocab_size: break\n",
    "                word = line.split(' ')[0]\n",
    "                word2rank[word] = i\n",
    "\n",
    "            pickle.dump(word2rank, open(model_filepath, 'wb'))\n",
    "            txt_file = DUMPS_DIR / f'{WORD_EMBEDDINGS_NAME}.txt'\n",
    "            zip_file = DUMPS_DIR / f'{WORD_EMBEDDINGS_NAME}.zip'\n",
    "            if txt_file.exists(): txt_file.unlink()\n",
    "            if zip_file.exists(): zip_file.unlink()\n",
    "            return word2rank\n",
    "\n",
    "    def _download_glove(self, model_name, dest_dir):\n",
    "        url = ''\n",
    "        if model_name == 'glove.6B':\n",
    "            url = 'http://nlp.stanford.edu/data/glove.6B.zip'\n",
    "        elif model_name == 'glove.42B.300d':\n",
    "            url = 'http://nlp.stanford.edu/data/glove.42B.300d.zip'\n",
    "        elif model_name == 'glove.840B.300d':\n",
    "            url = 'http://nlp.stanford.edu/data/glove.840B.300d.zip'\n",
    "        elif model_name == 'glove.twitter.27B':\n",
    "            url = 'http://nlp.stanford.edu/data/glove.twitter.27B.zip',\n",
    "        else:\n",
    "            possible_values = ['glove.6B', 'glove.42B.300d', 'glove.840B.300d', 'glove.twitter.27B']\n",
    "            raise ValueError('Unknown model_name. Possible values are {}'.format(possible_values))\n",
    "        file_path = self._download_url(url, dest_dir)\n",
    "        out_filepath = Path(file_path)\n",
    "        out_filepath = out_filepath.parent / f'{out_filepath.stem}.txt'\n",
    "        # print(out_filepath, out_filepath.exists())\n",
    "        if not out_filepath.exists():\n",
    "            print(\"Extracting: \", Path(file_path).name)\n",
    "            self._unzip(file_path, dest_dir)\n",
    "\n",
    "    def _yield_lines(self, filepath):\n",
    "        filepath = Path(filepath)\n",
    "        with filepath.open('r', encoding=\"latin-1\") as f:\n",
    "            for line in f:\n",
    "                yield line.rstrip()\n",
    "\n",
    "    def _download_url(self, url, output_path):\n",
    "        name = url.split('/')[-1]\n",
    "        file_path = f'{output_path}/{name}'\n",
    "        if not Path(file_path).exists():\n",
    "            with tqdm(unit='B', unit_scale=True, leave=True, miniters=1,\n",
    "                      desc=name) as t:  # all optional kwargs\n",
    "                urllib.request.urlretrieve(url, filename=file_path, reporthook=self._download_report_hook(t), data=None)\n",
    "        return file_path\n",
    "\n",
    "    def _unzip(self, file_path, dest_dir=None):\n",
    "        if dest_dir is None:\n",
    "            dest_dir = os.path.dirname(file_path)\n",
    "        if file_path.endswith('.zip'):\n",
    "            with zipfile.ZipFile(file_path, \"r\") as zip_ref:\n",
    "                zip_ref.extractall(dest_dir)\n",
    "        elif file_path.endswith(\"tar.gz\") or file_path.endswith(\"tgz\"):\n",
    "            tar = tarfile.open(file_path, \"r:gz\")\n",
    "            tar.extractall(dest_dir)\n",
    "            tar.close()\n",
    "        elif file_path.endswith(\"tar\"):\n",
    "            tar = tarfile.open(file_path, \"r:\")\n",
    "            tar.extractall(dest_dir)\n",
    "            tar.close()\n",
    "\n",
    "    def _download_report_hook(self, t):\n",
    "        last_b = [0]\n",
    "\n",
    "        def inner(b=1, bsize=1, tsize=None):\n",
    "            if tsize is not None:\n",
    "                t.total = tsize\n",
    "            t.update((b - last_b[0]) * bsize)\n",
    "            last_b[0] = b\n",
    "\n",
    "        return inner"
   ],
   "metadata": {
    "collapsed": false,
    "pycharm": {
     "name": "#%%\n"
    }
   }
  },
  {
   "cell_type": "code",
   "execution_count": 45,
   "outputs": [],
   "source": [
    "sentences_pair = {\"simple_text\": \"esta es la version complicada\", \"original_text\": \"esta es la sencilla.\"}"
   ],
   "metadata": {
    "collapsed": false,
    "pycharm": {
     "name": "#%%\n"
    }
   }
  },
  {
   "cell_type": "code",
   "execution_count": 46,
   "outputs": [
    {
     "data": {
      "text/plain": "{'simple_text': 'esta es la version complicada',\n 'original_text': 'esta es la sencilla.',\n 'original_text_preprocessed': 'CLR_1.45 '}"
     },
     "execution_count": 46,
     "metadata": {},
     "output_type": "execute_result"
    }
   ],
   "source": [
    "char = CharLengthRatio(\"train\", 0.8)\n",
    "sentences_pair = char.get_ratio(sentences_pair)\n",
    "sentences_pair"
   ],
   "metadata": {
    "collapsed": false,
    "pycharm": {
     "name": "#%%\n"
    }
   }
  },
  {
   "cell_type": "code",
   "execution_count": 47,
   "outputs": [
    {
     "data": {
      "text/plain": "{'simple_text': 'esta es la version complicada',\n 'original_text': 'esta es la sencilla.',\n 'original_text_preprocessed': 'CLR_1.45 WLR_1.0 '}"
     },
     "execution_count": 47,
     "metadata": {},
     "output_type": "execute_result"
    }
   ],
   "source": [
    "word_length = WordLengthRatio(\"train\", 0.8)\n",
    "sentences_pair = word_length.get_ratio(sentences_pair)\n",
    "sentences_pair"
   ],
   "metadata": {
    "collapsed": false,
    "pycharm": {
     "name": "#%%\n"
    }
   }
  },
  {
   "cell_type": "code",
   "execution_count": 48,
   "outputs": [
    {
     "data": {
      "text/plain": "{'simple_text': 'esta es la version complicada',\n 'original_text': 'esta es la sencilla.',\n 'original_text_preprocessed': 'CLR_1.45 WLR_1.0 LR_0.67 '}"
     },
     "execution_count": 48,
     "metadata": {},
     "output_type": "execute_result"
    }
   ],
   "source": [
    "levenshtein = LevenshteinRatio(\"train\", 0.8)\n",
    "sentences_pair = levenshtein.get_ratio(sentences_pair)\n",
    "sentences_pair"
   ],
   "metadata": {
    "collapsed": false,
    "pycharm": {
     "name": "#%%\n"
    }
   }
  },
  {
   "cell_type": "code",
   "execution_count": 49,
   "outputs": [
    {
     "data": {
      "text/plain": "{'simple_text': 'esta es la version complicada',\n 'original_text': 'esta es la sencilla.',\n 'original_text_preprocessed': 'CLR_1.45 WLR_1.0 LR_0.67 DTDR_1.0 '}"
     },
     "execution_count": 49,
     "metadata": {},
     "output_type": "execute_result"
    }
   ],
   "source": [
    "dependency = DependencyTreeDepthRatio(\"train\", 0.8)\n",
    "sentences_pair = dependency.get_ratio(sentences_pair)\n",
    "sentences_pair"
   ],
   "metadata": {
    "collapsed": false,
    "pycharm": {
     "name": "#%%\n"
    }
   }
  },
  {
   "cell_type": "code",
   "execution_count": 50,
   "outputs": [
    {
     "data": {
      "text/plain": "{'simple_text': 'esta es la version complicada',\n 'original_text': 'esta es la sencilla.',\n 'original_text_preprocessed': 'CLR_1.45 WLR_1.0 LR_0.67 DTDR_1.0 WRR_0.93 '}"
     },
     "execution_count": 50,
     "metadata": {},
     "output_type": "execute_result"
    }
   ],
   "source": [
    "word_rank = WordRankRatio(\"train\", 0.8)\n",
    "sentences_pair = word_rank.get_ratio(sentences_pair)\n",
    "sentences_pair"
   ],
   "metadata": {
    "collapsed": false,
    "pycharm": {
     "name": "#%%\n"
    }
   }
  },
  {
   "cell_type": "markdown",
   "source": [
    "Exploring features values from simpleText shared task"
   ],
   "metadata": {
    "collapsed": false,
    "pycharm": {
     "name": "#%% md\n"
    }
   }
  },
  {
   "cell_type": "code",
   "execution_count": 51,
   "outputs": [],
   "source": [
    "SIMPLETEXT_DATASET_PATH = DATASETS_PATH / \"simpleText/task 3\"\n",
    "SIMPLETEXT_TRAIN_PATH = SIMPLETEXT_DATASET_PATH / \"train\""
   ],
   "metadata": {
    "collapsed": false,
    "pycharm": {
     "name": "#%%\n"
    }
   }
  },
  {
   "cell_type": "code",
   "execution_count": 54,
   "outputs": [],
   "source": [
    "complex_text = pd.read_csv(SIMPLETEXT_TRAIN_PATH / \"simpleText.train.complex.txt\", header=None, sep=\"\\t\", names=[\"original_text\"])\n",
    "simple_text = pd.read_csv(SIMPLETEXT_TRAIN_PATH / \"simpleText.train.simple.txt\", header=None, sep=\"\\t\",names=[\"simple_text\"])"
   ],
   "metadata": {
    "collapsed": false,
    "pycharm": {
     "name": "#%%\n"
    }
   }
  },
  {
   "cell_type": "code",
   "execution_count": 56,
   "outputs": [
    {
     "data": {
      "text/plain": "                                         original_text  \\\n0    In the modern era of automation and robotics, ...   \n1    With the ever increasing number of unmanned ae...   \n2    Due to guidelines set by the governments regar...   \n3    In an attempt to achieve the above mentioned t...   \n4    Derived from the classic image classification ...   \n..                                                 ...   \n643  Bodybuilders generally train with moderate loa...   \n644  Powerlifters, on the other hand, routinely tra...   \n645  Although both groups are known to display impr...   \n646  It has been shown that many factors mediate th...   \n647  Therefore, the purpose of this paper is twofol...   \n\n                                           simple_text  \n0    Current academic and industrial research is in...  \n1    Drones are increasingly used in the civilian a...  \n2    Governments set guidelines on the operation ce...  \n3    Researchers propose data-driven solutions allo...  \n4    The algorithm, based on the Inception model, d...  \n..                                                 ...  \n643  Bodybuilders train with moderate loads and sho...  \n644  Powerlifters, on the other hand, train with hi...  \n645  Although both groups are known to display impr...  \n646  It has been shown that many factors mediate th...  \n647  Therefore, the purpose of this paper is to rev...  \n\n[648 rows x 2 columns]",
      "text/html": "<div>\n<style scoped>\n    .dataframe tbody tr th:only-of-type {\n        vertical-align: middle;\n    }\n\n    .dataframe tbody tr th {\n        vertical-align: top;\n    }\n\n    .dataframe thead th {\n        text-align: right;\n    }\n</style>\n<table border=\"1\" class=\"dataframe\">\n  <thead>\n    <tr style=\"text-align: right;\">\n      <th></th>\n      <th>original_text</th>\n      <th>simple_text</th>\n    </tr>\n  </thead>\n  <tbody>\n    <tr>\n      <th>0</th>\n      <td>In the modern era of automation and robotics, ...</td>\n      <td>Current academic and industrial research is in...</td>\n    </tr>\n    <tr>\n      <th>1</th>\n      <td>With the ever increasing number of unmanned ae...</td>\n      <td>Drones are increasingly used in the civilian a...</td>\n    </tr>\n    <tr>\n      <th>2</th>\n      <td>Due to guidelines set by the governments regar...</td>\n      <td>Governments set guidelines on the operation ce...</td>\n    </tr>\n    <tr>\n      <th>3</th>\n      <td>In an attempt to achieve the above mentioned t...</td>\n      <td>Researchers propose data-driven solutions allo...</td>\n    </tr>\n    <tr>\n      <th>4</th>\n      <td>Derived from the classic image classification ...</td>\n      <td>The algorithm, based on the Inception model, d...</td>\n    </tr>\n    <tr>\n      <th>...</th>\n      <td>...</td>\n      <td>...</td>\n    </tr>\n    <tr>\n      <th>643</th>\n      <td>Bodybuilders generally train with moderate loa...</td>\n      <td>Bodybuilders train with moderate loads and sho...</td>\n    </tr>\n    <tr>\n      <th>644</th>\n      <td>Powerlifters, on the other hand, routinely tra...</td>\n      <td>Powerlifters, on the other hand, train with hi...</td>\n    </tr>\n    <tr>\n      <th>645</th>\n      <td>Although both groups are known to display impr...</td>\n      <td>Although both groups are known to display impr...</td>\n    </tr>\n    <tr>\n      <th>646</th>\n      <td>It has been shown that many factors mediate th...</td>\n      <td>It has been shown that many factors mediate th...</td>\n    </tr>\n    <tr>\n      <th>647</th>\n      <td>Therefore, the purpose of this paper is twofol...</td>\n      <td>Therefore, the purpose of this paper is to rev...</td>\n    </tr>\n  </tbody>\n</table>\n<p>648 rows × 2 columns</p>\n</div>"
     },
     "execution_count": 56,
     "metadata": {},
     "output_type": "execute_result"
    }
   ],
   "source": [
    "sentences_pairs = pd.concat([complex_text, simple_text], axis=1)\n",
    "sentences_pairs"
   ],
   "metadata": {
    "collapsed": false,
    "pycharm": {
     "name": "#%%\n"
    }
   }
  },
  {
   "cell_type": "code",
   "execution_count": 57,
   "outputs": [],
   "source": [
    "results = []\n",
    "for i,row in sentences_pairs.iterrows():\n",
    "    sentences_pair = dict(original_text=row['original_text'], simple_text=row['simple_text'])\n",
    "    sentences_pair = char.get_ratio(sentences_pair)\n",
    "    sentences_pair = word_length.get_ratio(sentences_pair)\n",
    "    sentences_pair = levenshtein.get_ratio(sentences_pair)\n",
    "    sentences_pair = dependency.get_ratio(sentences_pair)\n",
    "    sentences_pair = word_rank.get_ratio(sentences_pair)\n",
    "    features = sentences_pair[\"original_text_preprocessed\"].strip().split(\" \")\n",
    "    instance = dict(feature.split(\"_\") for feature in features)\n",
    "    results.append(instance)"
   ],
   "metadata": {
    "collapsed": false,
    "pycharm": {
     "name": "#%%\n"
    }
   }
  },
  {
   "cell_type": "code",
   "execution_count": 58,
   "outputs": [],
   "source": [
    "len(results)\n",
    "results_df = pd.DataFrame(results).astype('float')"
   ],
   "metadata": {
    "collapsed": false,
    "pycharm": {
     "name": "#%%\n"
    }
   }
  },
  {
   "cell_type": "code",
   "execution_count": 59,
   "outputs": [
    {
     "data": {
      "text/plain": "      CLR   WLR    LR  DTDR   WRR\n0    0.62  0.52  0.36  0.80  0.92\n1    0.49  0.50  0.50  0.36  1.07\n2    0.89  0.91  0.74  0.67  0.99\n3    0.67  0.57  0.58  0.55  1.03\n4    0.72  0.71  0.46  0.38  0.99\n..    ...   ...   ...   ...   ...\n643  0.51  0.53  0.69  0.71  1.00\n644  0.80  0.84  0.91  0.80  0.96\n645  1.03  1.05  0.92  1.20  0.94\n646  0.93  1.03  0.92  0.86  0.92\n647  0.86  0.82  0.85  1.00  0.97\n\n[648 rows x 5 columns]",
      "text/html": "<div>\n<style scoped>\n    .dataframe tbody tr th:only-of-type {\n        vertical-align: middle;\n    }\n\n    .dataframe tbody tr th {\n        vertical-align: top;\n    }\n\n    .dataframe thead th {\n        text-align: right;\n    }\n</style>\n<table border=\"1\" class=\"dataframe\">\n  <thead>\n    <tr style=\"text-align: right;\">\n      <th></th>\n      <th>CLR</th>\n      <th>WLR</th>\n      <th>LR</th>\n      <th>DTDR</th>\n      <th>WRR</th>\n    </tr>\n  </thead>\n  <tbody>\n    <tr>\n      <th>0</th>\n      <td>0.62</td>\n      <td>0.52</td>\n      <td>0.36</td>\n      <td>0.80</td>\n      <td>0.92</td>\n    </tr>\n    <tr>\n      <th>1</th>\n      <td>0.49</td>\n      <td>0.50</td>\n      <td>0.50</td>\n      <td>0.36</td>\n      <td>1.07</td>\n    </tr>\n    <tr>\n      <th>2</th>\n      <td>0.89</td>\n      <td>0.91</td>\n      <td>0.74</td>\n      <td>0.67</td>\n      <td>0.99</td>\n    </tr>\n    <tr>\n      <th>3</th>\n      <td>0.67</td>\n      <td>0.57</td>\n      <td>0.58</td>\n      <td>0.55</td>\n      <td>1.03</td>\n    </tr>\n    <tr>\n      <th>4</th>\n      <td>0.72</td>\n      <td>0.71</td>\n      <td>0.46</td>\n      <td>0.38</td>\n      <td>0.99</td>\n    </tr>\n    <tr>\n      <th>...</th>\n      <td>...</td>\n      <td>...</td>\n      <td>...</td>\n      <td>...</td>\n      <td>...</td>\n    </tr>\n    <tr>\n      <th>643</th>\n      <td>0.51</td>\n      <td>0.53</td>\n      <td>0.69</td>\n      <td>0.71</td>\n      <td>1.00</td>\n    </tr>\n    <tr>\n      <th>644</th>\n      <td>0.80</td>\n      <td>0.84</td>\n      <td>0.91</td>\n      <td>0.80</td>\n      <td>0.96</td>\n    </tr>\n    <tr>\n      <th>645</th>\n      <td>1.03</td>\n      <td>1.05</td>\n      <td>0.92</td>\n      <td>1.20</td>\n      <td>0.94</td>\n    </tr>\n    <tr>\n      <th>646</th>\n      <td>0.93</td>\n      <td>1.03</td>\n      <td>0.92</td>\n      <td>0.86</td>\n      <td>0.92</td>\n    </tr>\n    <tr>\n      <th>647</th>\n      <td>0.86</td>\n      <td>0.82</td>\n      <td>0.85</td>\n      <td>1.00</td>\n      <td>0.97</td>\n    </tr>\n  </tbody>\n</table>\n<p>648 rows × 5 columns</p>\n</div>"
     },
     "execution_count": 59,
     "metadata": {},
     "output_type": "execute_result"
    }
   ],
   "source": [
    "results_df"
   ],
   "metadata": {
    "collapsed": false,
    "pycharm": {
     "name": "#%%\n"
    }
   }
  },
  {
   "cell_type": "code",
   "execution_count": 60,
   "outputs": [
    {
     "data": {
      "text/plain": "      CLR   WLR    LR  DTDR   WRR\n0    0.62  0.52  0.36  0.80  0.92\n1    0.49  0.50  0.50  0.36  1.07\n2    0.89  0.91  0.74  0.67  0.99\n3    0.67  0.57  0.58  0.55  1.03\n4    0.72  0.71  0.46  0.38  0.99\n..    ...   ...   ...   ...   ...\n643  0.51  0.53  0.69  0.71  1.00\n644  0.80  0.84  0.91  0.80  0.96\n645  1.03  1.05  0.92  1.20  0.94\n646  0.93  1.03  0.92  0.86  0.92\n647  0.86  0.82  0.85  1.00  0.97\n\n[648 rows x 5 columns]",
      "text/html": "<div>\n<style scoped>\n    .dataframe tbody tr th:only-of-type {\n        vertical-align: middle;\n    }\n\n    .dataframe tbody tr th {\n        vertical-align: top;\n    }\n\n    .dataframe thead th {\n        text-align: right;\n    }\n</style>\n<table border=\"1\" class=\"dataframe\">\n  <thead>\n    <tr style=\"text-align: right;\">\n      <th></th>\n      <th>CLR</th>\n      <th>WLR</th>\n      <th>LR</th>\n      <th>DTDR</th>\n      <th>WRR</th>\n    </tr>\n  </thead>\n  <tbody>\n    <tr>\n      <th>0</th>\n      <td>0.62</td>\n      <td>0.52</td>\n      <td>0.36</td>\n      <td>0.80</td>\n      <td>0.92</td>\n    </tr>\n    <tr>\n      <th>1</th>\n      <td>0.49</td>\n      <td>0.50</td>\n      <td>0.50</td>\n      <td>0.36</td>\n      <td>1.07</td>\n    </tr>\n    <tr>\n      <th>2</th>\n      <td>0.89</td>\n      <td>0.91</td>\n      <td>0.74</td>\n      <td>0.67</td>\n      <td>0.99</td>\n    </tr>\n    <tr>\n      <th>3</th>\n      <td>0.67</td>\n      <td>0.57</td>\n      <td>0.58</td>\n      <td>0.55</td>\n      <td>1.03</td>\n    </tr>\n    <tr>\n      <th>4</th>\n      <td>0.72</td>\n      <td>0.71</td>\n      <td>0.46</td>\n      <td>0.38</td>\n      <td>0.99</td>\n    </tr>\n    <tr>\n      <th>...</th>\n      <td>...</td>\n      <td>...</td>\n      <td>...</td>\n      <td>...</td>\n      <td>...</td>\n    </tr>\n    <tr>\n      <th>643</th>\n      <td>0.51</td>\n      <td>0.53</td>\n      <td>0.69</td>\n      <td>0.71</td>\n      <td>1.00</td>\n    </tr>\n    <tr>\n      <th>644</th>\n      <td>0.80</td>\n      <td>0.84</td>\n      <td>0.91</td>\n      <td>0.80</td>\n      <td>0.96</td>\n    </tr>\n    <tr>\n      <th>645</th>\n      <td>1.03</td>\n      <td>1.05</td>\n      <td>0.92</td>\n      <td>1.20</td>\n      <td>0.94</td>\n    </tr>\n    <tr>\n      <th>646</th>\n      <td>0.93</td>\n      <td>1.03</td>\n      <td>0.92</td>\n      <td>0.86</td>\n      <td>0.92</td>\n    </tr>\n    <tr>\n      <th>647</th>\n      <td>0.86</td>\n      <td>0.82</td>\n      <td>0.85</td>\n      <td>1.00</td>\n      <td>0.97</td>\n    </tr>\n  </tbody>\n</table>\n<p>648 rows × 5 columns</p>\n</div>"
     },
     "execution_count": 60,
     "metadata": {},
     "output_type": "execute_result"
    }
   ],
   "source": [
    "results_df"
   ],
   "metadata": {
    "collapsed": false,
    "pycharm": {
     "name": "#%%\n"
    }
   }
  },
  {
   "cell_type": "markdown",
   "source": [
    "Summary statistics"
   ],
   "metadata": {
    "collapsed": false,
    "pycharm": {
     "name": "#%% md\n"
    }
   }
  },
  {
   "cell_type": "code",
   "execution_count": 61,
   "outputs": [
    {
     "data": {
      "text/plain": "              CLR         WLR          LR        DTDR         WRR\ncount  648.000000  648.000000  648.000000  648.000000  648.000000\nmean     0.805602    0.851250    0.723611    0.908966    0.974614\nstd      0.243792    0.423034    0.175329    0.335933    0.070011\nmin      0.180000    0.160000    0.200000    0.200000    0.710000\n25%      0.650000    0.670000    0.600000    0.710000    0.940000\n50%      0.790000    0.815000    0.750000    0.890000    0.990000\n75%      0.930000    0.960000    0.860000    1.000000    1.002500\nmax      2.150000    5.880000    1.000000    3.330000    1.260000",
      "text/html": "<div>\n<style scoped>\n    .dataframe tbody tr th:only-of-type {\n        vertical-align: middle;\n    }\n\n    .dataframe tbody tr th {\n        vertical-align: top;\n    }\n\n    .dataframe thead th {\n        text-align: right;\n    }\n</style>\n<table border=\"1\" class=\"dataframe\">\n  <thead>\n    <tr style=\"text-align: right;\">\n      <th></th>\n      <th>CLR</th>\n      <th>WLR</th>\n      <th>LR</th>\n      <th>DTDR</th>\n      <th>WRR</th>\n    </tr>\n  </thead>\n  <tbody>\n    <tr>\n      <th>count</th>\n      <td>648.000000</td>\n      <td>648.000000</td>\n      <td>648.000000</td>\n      <td>648.000000</td>\n      <td>648.000000</td>\n    </tr>\n    <tr>\n      <th>mean</th>\n      <td>0.805602</td>\n      <td>0.851250</td>\n      <td>0.723611</td>\n      <td>0.908966</td>\n      <td>0.974614</td>\n    </tr>\n    <tr>\n      <th>std</th>\n      <td>0.243792</td>\n      <td>0.423034</td>\n      <td>0.175329</td>\n      <td>0.335933</td>\n      <td>0.070011</td>\n    </tr>\n    <tr>\n      <th>min</th>\n      <td>0.180000</td>\n      <td>0.160000</td>\n      <td>0.200000</td>\n      <td>0.200000</td>\n      <td>0.710000</td>\n    </tr>\n    <tr>\n      <th>25%</th>\n      <td>0.650000</td>\n      <td>0.670000</td>\n      <td>0.600000</td>\n      <td>0.710000</td>\n      <td>0.940000</td>\n    </tr>\n    <tr>\n      <th>50%</th>\n      <td>0.790000</td>\n      <td>0.815000</td>\n      <td>0.750000</td>\n      <td>0.890000</td>\n      <td>0.990000</td>\n    </tr>\n    <tr>\n      <th>75%</th>\n      <td>0.930000</td>\n      <td>0.960000</td>\n      <td>0.860000</td>\n      <td>1.000000</td>\n      <td>1.002500</td>\n    </tr>\n    <tr>\n      <th>max</th>\n      <td>2.150000</td>\n      <td>5.880000</td>\n      <td>1.000000</td>\n      <td>3.330000</td>\n      <td>1.260000</td>\n    </tr>\n  </tbody>\n</table>\n</div>"
     },
     "execution_count": 61,
     "metadata": {},
     "output_type": "execute_result"
    }
   ],
   "source": [
    "results_df.describe()"
   ],
   "metadata": {
    "collapsed": false,
    "pycharm": {
     "name": "#%%\n"
    }
   }
  },
  {
   "cell_type": "code",
   "execution_count": 62,
   "outputs": [
    {
     "data": {
      "text/plain": "              CLR         WLR          LR        DTDR         WRR\ncount  648.000000  648.000000  648.000000  648.000000  648.000000\nmean     0.805602    0.851250    0.723611    0.908966    0.974614\nstd      0.243792    0.423034    0.175329    0.335933    0.070011\nmin      0.180000    0.160000    0.200000    0.200000    0.710000\n25%      0.650000    0.670000    0.600000    0.710000    0.940000\n50%      0.790000    0.815000    0.750000    0.890000    0.990000\n75%      0.930000    0.960000    0.860000    1.000000    1.002500\nmax      2.150000    5.880000    1.000000    3.330000    1.260000",
      "text/html": "<div>\n<style scoped>\n    .dataframe tbody tr th:only-of-type {\n        vertical-align: middle;\n    }\n\n    .dataframe tbody tr th {\n        vertical-align: top;\n    }\n\n    .dataframe thead th {\n        text-align: right;\n    }\n</style>\n<table border=\"1\" class=\"dataframe\">\n  <thead>\n    <tr style=\"text-align: right;\">\n      <th></th>\n      <th>CLR</th>\n      <th>WLR</th>\n      <th>LR</th>\n      <th>DTDR</th>\n      <th>WRR</th>\n    </tr>\n  </thead>\n  <tbody>\n    <tr>\n      <th>count</th>\n      <td>648.000000</td>\n      <td>648.000000</td>\n      <td>648.000000</td>\n      <td>648.000000</td>\n      <td>648.000000</td>\n    </tr>\n    <tr>\n      <th>mean</th>\n      <td>0.805602</td>\n      <td>0.851250</td>\n      <td>0.723611</td>\n      <td>0.908966</td>\n      <td>0.974614</td>\n    </tr>\n    <tr>\n      <th>std</th>\n      <td>0.243792</td>\n      <td>0.423034</td>\n      <td>0.175329</td>\n      <td>0.335933</td>\n      <td>0.070011</td>\n    </tr>\n    <tr>\n      <th>min</th>\n      <td>0.180000</td>\n      <td>0.160000</td>\n      <td>0.200000</td>\n      <td>0.200000</td>\n      <td>0.710000</td>\n    </tr>\n    <tr>\n      <th>25%</th>\n      <td>0.650000</td>\n      <td>0.670000</td>\n      <td>0.600000</td>\n      <td>0.710000</td>\n      <td>0.940000</td>\n    </tr>\n    <tr>\n      <th>50%</th>\n      <td>0.790000</td>\n      <td>0.815000</td>\n      <td>0.750000</td>\n      <td>0.890000</td>\n      <td>0.990000</td>\n    </tr>\n    <tr>\n      <th>75%</th>\n      <td>0.930000</td>\n      <td>0.960000</td>\n      <td>0.860000</td>\n      <td>1.000000</td>\n      <td>1.002500</td>\n    </tr>\n    <tr>\n      <th>max</th>\n      <td>2.150000</td>\n      <td>5.880000</td>\n      <td>1.000000</td>\n      <td>3.330000</td>\n      <td>1.260000</td>\n    </tr>\n  </tbody>\n</table>\n</div>"
     },
     "execution_count": 62,
     "metadata": {},
     "output_type": "execute_result"
    }
   ],
   "source": [
    "results_df.describe()"
   ],
   "metadata": {
    "collapsed": false,
    "pycharm": {
     "name": "#%%\n"
    }
   }
  },
  {
   "cell_type": "markdown",
   "source": [
    "Character Length Ratio"
   ],
   "metadata": {
    "collapsed": false,
    "pycharm": {
     "name": "#%% md\n"
    }
   }
  },
  {
   "cell_type": "code",
   "execution_count": 63,
   "outputs": [
    {
     "name": "stderr",
     "output_type": "stream",
     "text": [
      "/Users/antoniomenta/PycharmProjects/simpleTextCLEF/venv/lib/python3.8/site-packages/seaborn/distributions.py:2619: FutureWarning: `distplot` is a deprecated function and will be removed in a future version. Please adapt your code to use either `displot` (a figure-level function with similar flexibility) or `histplot` (an axes-level function for histograms).\n",
      "  warnings.warn(msg, FutureWarning)\n"
     ]
    },
    {
     "data": {
      "text/plain": "<Figure size 720x432 with 1 Axes>",
      "image/png": "[encoded data removed]"
     },
     "metadata": {
      "needs_background": "light"
     },
     "output_type": "display_data"
    }
   ],
   "source": [
    "fig = plt.figure(figsize=(10,6))\n",
    "sns.distplot(results_df[\"CLR\"])\n",
    "fig.legend(labels=['Char Length'])\n",
    "plt.show()"
   ],
   "metadata": {
    "collapsed": false,
    "pycharm": {
     "name": "#%%\n"
    }
   }
  },
  {
   "cell_type": "code",
   "execution_count": 63,
   "outputs": [],
   "source": [],
   "metadata": {
    "collapsed": false,
    "pycharm": {
     "name": "#%%\n"
    }
   }
  },
  {
   "cell_type": "code",
   "execution_count": 64,
   "outputs": [
    {
     "name": "stderr",
     "output_type": "stream",
     "text": [
      "/Users/antoniomenta/PycharmProjects/simpleTextCLEF/venv/lib/python3.8/site-packages/seaborn/distributions.py:2619: FutureWarning: `distplot` is a deprecated function and will be removed in a future version. Please adapt your code to use either `displot` (a figure-level function with similar flexibility) or `histplot` (an axes-level function for histograms).\n",
      "  warnings.warn(msg, FutureWarning)\n"
     ]
    },
    {
     "data": {
      "text/plain": "<Figure size 720x432 with 1 Axes>",
      "image/png": "[encoded data removed]"
     },
     "metadata": {
      "needs_background": "light"
     },
     "output_type": "display_data"
    }
   ],
   "source": [
    "fig = plt.figure(figsize=(10,6))\n",
    "sns.distplot(results_df[\"WLR\"],label=\"Word Length\")\n",
    "fig.legend(labels=['Word Length'])\n",
    "plt.show()"
   ],
   "metadata": {
    "collapsed": false,
    "pycharm": {
     "name": "#%%\n"
    }
   }
  },
  {
   "cell_type": "code",
   "execution_count": 65,
   "outputs": [
    {
     "name": "stderr",
     "output_type": "stream",
     "text": [
      "/Users/antoniomenta/PycharmProjects/simpleTextCLEF/venv/lib/python3.8/site-packages/seaborn/distributions.py:2619: FutureWarning: `distplot` is a deprecated function and will be removed in a future version. Please adapt your code to use either `displot` (a figure-level function with similar flexibility) or `histplot` (an axes-level function for histograms).\n",
      "  warnings.warn(msg, FutureWarning)\n"
     ]
    },
    {
     "data": {
      "text/plain": "<Figure size 720x432 with 1 Axes>",
      "image/png": "[encoded data removed]"
     },
     "metadata": {
      "needs_background": "light"
     },
     "output_type": "display_data"
    }
   ],
   "source": [
    "fig = plt.figure(figsize=(10,6))\n",
    "sns.distplot(results_df[\"LR\"])\n",
    "fig.legend(labels=['Levenshtein'])\n",
    "plt.show()"
   ],
   "metadata": {
    "collapsed": false,
    "pycharm": {
     "name": "#%%\n"
    }
   }
  },
  {
   "cell_type": "code",
   "execution_count": 66,
   "outputs": [
    {
     "name": "stderr",
     "output_type": "stream",
     "text": [
      "/Users/antoniomenta/PycharmProjects/simpleTextCLEF/venv/lib/python3.8/site-packages/seaborn/distributions.py:2619: FutureWarning: `distplot` is a deprecated function and will be removed in a future version. Please adapt your code to use either `displot` (a figure-level function with similar flexibility) or `histplot` (an axes-level function for histograms).\n",
      "  warnings.warn(msg, FutureWarning)\n"
     ]
    },
    {
     "data": {
      "text/plain": "<Figure size 720x432 with 1 Axes>",
      "image/png": "[encoded data removed]"
     },
     "metadata": {
      "needs_background": "light"
     },
     "output_type": "display_data"
    }
   ],
   "source": [
    "fig = plt.figure(figsize=(10,6))\n",
    "sns.distplot(results_df[\"LR\"])\n",
    "fig.legend(labels=['Levenshtein'])\n",
    "plt.show()"
   ],
   "metadata": {
    "collapsed": false,
    "pycharm": {
     "name": "#%%\n"
    }
   }
  },
  {
   "cell_type": "code",
   "execution_count": 67,
   "outputs": [
    {
     "name": "stderr",
     "output_type": "stream",
     "text": [
      "/Users/antoniomenta/PycharmProjects/simpleTextCLEF/venv/lib/python3.8/site-packages/seaborn/distributions.py:2619: FutureWarning: `distplot` is a deprecated function and will be removed in a future version. Please adapt your code to use either `displot` (a figure-level function with similar flexibility) or `histplot` (an axes-level function for histograms).\n",
      "  warnings.warn(msg, FutureWarning)\n"
     ]
    },
    {
     "data": {
      "text/plain": "<Figure size 720x432 with 1 Axes>",
      "image/png": "[encoded data removed]"
     },
     "metadata": {
      "needs_background": "light"
     },
     "output_type": "display_data"
    }
   ],
   "source": [
    "fig = plt.figure(figsize=(10,6))\n",
    "sns.distplot(results_df[\"DTDR\"])\n",
    "fig.legend(labels=['Deep Tree'])\n",
    "plt.show()"
   ],
   "metadata": {
    "collapsed": false,
    "pycharm": {
     "name": "#%%\n"
    }
   }
  },
  {
   "cell_type": "code",
   "execution_count": 68,
   "outputs": [
    {
     "name": "stderr",
     "output_type": "stream",
     "text": [
      "/Users/antoniomenta/PycharmProjects/simpleTextCLEF/venv/lib/python3.8/site-packages/seaborn/distributions.py:2619: FutureWarning: `distplot` is a deprecated function and will be removed in a future version. Please adapt your code to use either `displot` (a figure-level function with similar flexibility) or `histplot` (an axes-level function for histograms).\n",
      "  warnings.warn(msg, FutureWarning)\n"
     ]
    },
    {
     "data": {
      "text/plain": "<Figure size 720x432 with 1 Axes>",
      "image/png": "[encoded data removed]"
     },
     "metadata": {
      "needs_background": "light"
     },
     "output_type": "display_data"
    }
   ],
   "source": [
    "fig = plt.figure(figsize=(10,6))\n",
    "sns.distplot(results_df[\"WRR\"])\n",
    "fig.legend(labels=['Word Rank'])\n",
    "plt.show()"
   ],
   "metadata": {
    "collapsed": false,
    "pycharm": {
     "name": "#%%\n"
    }
   }
  },
  {
   "cell_type": "code",
   "execution_count": null,
   "outputs": [],
   "source": [],
   "metadata": {
    "collapsed": false,
    "pycharm": {
     "name": "#%%\n"
    }
   }
  }
 ],
 "metadata": {
  "kernelspec": {
   "display_name": "Python 3",
   "language": "python",
   "name": "python3"
  },
  "language_info": {
   "codemirror_mode": {
    "name": "ipython",
    "version": 2
   },
   "file_extension": ".py",
   "mimetype": "text/x-python",
   "name": "python",
   "nbconvert_exporter": "python",
   "pygments_lexer": "ipython2",
   "version": "2.7.6"
  }
 },
 "nbformat": 4,
 "nbformat_minor": 0
}