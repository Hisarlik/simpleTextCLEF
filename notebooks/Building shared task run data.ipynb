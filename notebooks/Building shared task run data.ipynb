{
 "cells": [
  {
   "cell_type": "code",
   "execution_count": 3,
   "metadata": {
    "collapsed": true,
    "pycharm": {
     "name": "#%%\n"
    }
   },
   "outputs": [],
   "source": [
    "import pandas as pd\n",
    "from pathlib import Path"
   ]
  },
  {
   "cell_type": "code",
   "execution_count": 34,
   "outputs": [],
   "source": [
    "RUN_DATA = Path('../resources/run_data')\n",
    "RESULTS = RUN_DATA / \"test_results.txt\"\n",
    "TEST_DATA = RUN_DATA / \"simpletext_task3_test.csv\"\n",
    "OUTPUT_TSV = RUN_DATA / \"CLARA-HD_run_1.tsv\"\n",
    "OUTPUT_JSON = RUN_DATA / \"CLARA-HD_run_1.json\""
   ],
   "metadata": {
    "collapsed": false,
    "pycharm": {
     "name": "#%%\n"
    }
   }
  },
  {
   "cell_type": "code",
   "execution_count": 35,
   "outputs": [
    {
     "data": {
      "text/plain": "                    snt_id                                         source_snt  \\\n0       G01.1_1564531496_1  In this short paper we describe the architectu...   \n1       G01.1_1564531496_2  A CDA is a mobile user device, similar to a Pe...   \n2       G01.1_1564531496_3  It supports the citizen when dealing with publ...   \n3       G01.1_1564531496_4  Requirements for secure and trusted interactio...   \n4       G01.1_1564531496_5  The Citizen Digital Assistant eliminates these...   \n...                    ...                                                ...   \n116758  T20.2_2005401280_2  While previous work has concentrated on langua...   \n116759  T20.2_2005401280_3  In this paper, we present the motivation for h...   \n116760  T20.2_2623951130_1  With software in the loop, a graphical user in...   \n116761  T20.2_2623951130_2  Students can write their own program everywher...   \n116762  T20.2_2623951130_3  During the lecture “Design of Software-Intensi...   \n\n            doc_id query_id                query_text  \n0       1564531496    G01.1         Digital assistant  \n1       1564531496    G01.1         Digital assistant  \n2       1564531496    G01.1         Digital assistant  \n3       1564531496    G01.1         Digital assistant  \n4       1564531496    G01.1         Digital assistant  \n...            ...      ...                       ...  \n116758  2005401280    T20.2  graphical user interface  \n116759  2005401280    T20.2  graphical user interface  \n116760  2623951130    T20.2  graphical user interface  \n116761  2623951130    T20.2  graphical user interface  \n116762  2623951130    T20.2  graphical user interface  \n\n[116763 rows x 5 columns]",
      "text/html": "<div>\n<style scoped>\n    .dataframe tbody tr th:only-of-type {\n        vertical-align: middle;\n    }\n\n    .dataframe tbody tr th {\n        vertical-align: top;\n    }\n\n    .dataframe thead th {\n        text-align: right;\n    }\n</style>\n<table border=\"1\" class=\"dataframe\">\n  <thead>\n    <tr style=\"text-align: right;\">\n      <th></th>\n      <th>snt_id</th>\n      <th>source_snt</th>\n      <th>doc_id</th>\n      <th>query_id</th>\n      <th>query_text</th>\n    </tr>\n  </thead>\n  <tbody>\n    <tr>\n      <th>0</th>\n      <td>G01.1_1564531496_1</td>\n      <td>In this short paper we describe the architectu...</td>\n      <td>1564531496</td>\n      <td>G01.1</td>\n      <td>Digital assistant</td>\n    </tr>\n    <tr>\n      <th>1</th>\n      <td>G01.1_1564531496_2</td>\n      <td>A CDA is a mobile user device, similar to a Pe...</td>\n      <td>1564531496</td>\n      <td>G01.1</td>\n      <td>Digital assistant</td>\n    </tr>\n    <tr>\n      <th>2</th>\n      <td>G01.1_1564531496_3</td>\n      <td>It supports the citizen when dealing with publ...</td>\n      <td>1564531496</td>\n      <td>G01.1</td>\n      <td>Digital assistant</td>\n    </tr>\n    <tr>\n      <th>3</th>\n      <td>G01.1_1564531496_4</td>\n      <td>Requirements for secure and trusted interactio...</td>\n      <td>1564531496</td>\n      <td>G01.1</td>\n      <td>Digital assistant</td>\n    </tr>\n    <tr>\n      <th>4</th>\n      <td>G01.1_1564531496_5</td>\n      <td>The Citizen Digital Assistant eliminates these...</td>\n      <td>1564531496</td>\n      <td>G01.1</td>\n      <td>Digital assistant</td>\n    </tr>\n    <tr>\n      <th>...</th>\n      <td>...</td>\n      <td>...</td>\n      <td>...</td>\n      <td>...</td>\n      <td>...</td>\n    </tr>\n    <tr>\n      <th>116758</th>\n      <td>T20.2_2005401280_2</td>\n      <td>While previous work has concentrated on langua...</td>\n      <td>2005401280</td>\n      <td>T20.2</td>\n      <td>graphical user interface</td>\n    </tr>\n    <tr>\n      <th>116759</th>\n      <td>T20.2_2005401280_3</td>\n      <td>In this paper, we present the motivation for h...</td>\n      <td>2005401280</td>\n      <td>T20.2</td>\n      <td>graphical user interface</td>\n    </tr>\n    <tr>\n      <th>116760</th>\n      <td>T20.2_2623951130_1</td>\n      <td>With software in the loop, a graphical user in...</td>\n      <td>2623951130</td>\n      <td>T20.2</td>\n      <td>graphical user interface</td>\n    </tr>\n    <tr>\n      <th>116761</th>\n      <td>T20.2_2623951130_2</td>\n      <td>Students can write their own program everywher...</td>\n      <td>2623951130</td>\n      <td>T20.2</td>\n      <td>graphical user interface</td>\n    </tr>\n    <tr>\n      <th>116762</th>\n      <td>T20.2_2623951130_3</td>\n      <td>During the lecture “Design of Software-Intensi...</td>\n      <td>2623951130</td>\n      <td>T20.2</td>\n      <td>graphical user interface</td>\n    </tr>\n  </tbody>\n</table>\n<p>116763 rows × 5 columns</p>\n</div>"
     },
     "execution_count": 35,
     "metadata": {},
     "output_type": "execute_result"
    }
   ],
   "source": [
    "test_dataframe = pd.read_csv(TEST_DATA)\n",
    "test_dataframe"
   ],
   "metadata": {
    "collapsed": false,
    "pycharm": {
     "name": "#%%\n"
    }
   }
  },
  {
   "cell_type": "code",
   "execution_count": 36,
   "outputs": [
    {
     "data": {
      "text/plain": "0         G01.1_1564531496_1\n1         G01.1_1564531496_2\n2         G01.1_1564531496_3\n3         G01.1_1564531496_4\n4         G01.1_1564531496_5\n                 ...        \n116758    T20.2_2005401280_2\n116759    T20.2_2005401280_3\n116760    T20.2_2623951130_1\n116761    T20.2_2623951130_2\n116762    T20.2_2623951130_3\nName: snt_id, Length: 116763, dtype: object"
     },
     "execution_count": 36,
     "metadata": {},
     "output_type": "execute_result"
    }
   ],
   "source": [
    "snt_id_column = test_dataframe[\"snt_id\"]\n",
    "snt_id_column"
   ],
   "metadata": {
    "collapsed": false,
    "pycharm": {
     "name": "#%%\n"
    }
   }
  },
  {
   "cell_type": "code",
   "execution_count": 37,
   "outputs": [
    {
     "data": {
      "text/plain": "                                           simplified_snt\n0       In this short paper we describe the idea of a ...\n1       A CDA is a mobile device similar to a Personal...\n2       It supports the citizen when dealing with publ...\n3       Requirements for secure and trusted interactio...\n4       The Citizen Digital Assistant allows a person ...\n...                                                   ...\n116758  While previous work has concentrated on langua...\n116759  In this paper, we present the reasons for hand...\n116760  With software in the loop, a graphical user in...\n116761  Students can write their own program everywher...\n116762  They can run the same software on the physical...\n\n[116763 rows x 1 columns]",
      "text/html": "<div>\n<style scoped>\n    .dataframe tbody tr th:only-of-type {\n        vertical-align: middle;\n    }\n\n    .dataframe tbody tr th {\n        vertical-align: top;\n    }\n\n    .dataframe thead th {\n        text-align: right;\n    }\n</style>\n<table border=\"1\" class=\"dataframe\">\n  <thead>\n    <tr style=\"text-align: right;\">\n      <th></th>\n      <th>simplified_snt</th>\n    </tr>\n  </thead>\n  <tbody>\n    <tr>\n      <th>0</th>\n      <td>In this short paper we describe the idea of a ...</td>\n    </tr>\n    <tr>\n      <th>1</th>\n      <td>A CDA is a mobile device similar to a Personal...</td>\n    </tr>\n    <tr>\n      <th>2</th>\n      <td>It supports the citizen when dealing with publ...</td>\n    </tr>\n    <tr>\n      <th>3</th>\n      <td>Requirements for secure and trusted interactio...</td>\n    </tr>\n    <tr>\n      <th>4</th>\n      <td>The Citizen Digital Assistant allows a person ...</td>\n    </tr>\n    <tr>\n      <th>...</th>\n      <td>...</td>\n    </tr>\n    <tr>\n      <th>116758</th>\n      <td>While previous work has concentrated on langua...</td>\n    </tr>\n    <tr>\n      <th>116759</th>\n      <td>In this paper, we present the reasons for hand...</td>\n    </tr>\n    <tr>\n      <th>116760</th>\n      <td>With software in the loop, a graphical user in...</td>\n    </tr>\n    <tr>\n      <th>116761</th>\n      <td>Students can write their own program everywher...</td>\n    </tr>\n    <tr>\n      <th>116762</th>\n      <td>They can run the same software on the physical...</td>\n    </tr>\n  </tbody>\n</table>\n<p>116763 rows × 1 columns</p>\n</div>"
     },
     "execution_count": 37,
     "metadata": {},
     "output_type": "execute_result"
    }
   ],
   "source": [
    "result = pd.read_csv(RESULTS, sep=\"\\t\", header=None, names=['simplified_snt'])\n",
    "result"
   ],
   "metadata": {
    "collapsed": false,
    "pycharm": {
     "name": "#%%\n"
    }
   }
  },
  {
   "cell_type": "code",
   "execution_count": 38,
   "outputs": [
    {
     "data": {
      "text/plain": "                    snt_id                                     simplified_snt\n0       G01.1_1564531496_1  In this short paper we describe the idea of a ...\n1       G01.1_1564531496_2  A CDA is a mobile device similar to a Personal...\n2       G01.1_1564531496_3  It supports the citizen when dealing with publ...\n3       G01.1_1564531496_4  Requirements for secure and trusted interactio...\n4       G01.1_1564531496_5  The Citizen Digital Assistant allows a person ...\n...                    ...                                                ...\n116758  T20.2_2005401280_2  While previous work has concentrated on langua...\n116759  T20.2_2005401280_3  In this paper, we present the reasons for hand...\n116760  T20.2_2623951130_1  With software in the loop, a graphical user in...\n116761  T20.2_2623951130_2  Students can write their own program everywher...\n116762  T20.2_2623951130_3  They can run the same software on the physical...\n\n[116763 rows x 2 columns]",
      "text/html": "<div>\n<style scoped>\n    .dataframe tbody tr th:only-of-type {\n        vertical-align: middle;\n    }\n\n    .dataframe tbody tr th {\n        vertical-align: top;\n    }\n\n    .dataframe thead th {\n        text-align: right;\n    }\n</style>\n<table border=\"1\" class=\"dataframe\">\n  <thead>\n    <tr style=\"text-align: right;\">\n      <th></th>\n      <th>snt_id</th>\n      <th>simplified_snt</th>\n    </tr>\n  </thead>\n  <tbody>\n    <tr>\n      <th>0</th>\n      <td>G01.1_1564531496_1</td>\n      <td>In this short paper we describe the idea of a ...</td>\n    </tr>\n    <tr>\n      <th>1</th>\n      <td>G01.1_1564531496_2</td>\n      <td>A CDA is a mobile device similar to a Personal...</td>\n    </tr>\n    <tr>\n      <th>2</th>\n      <td>G01.1_1564531496_3</td>\n      <td>It supports the citizen when dealing with publ...</td>\n    </tr>\n    <tr>\n      <th>3</th>\n      <td>G01.1_1564531496_4</td>\n      <td>Requirements for secure and trusted interactio...</td>\n    </tr>\n    <tr>\n      <th>4</th>\n      <td>G01.1_1564531496_5</td>\n      <td>The Citizen Digital Assistant allows a person ...</td>\n    </tr>\n    <tr>\n      <th>...</th>\n      <td>...</td>\n      <td>...</td>\n    </tr>\n    <tr>\n      <th>116758</th>\n      <td>T20.2_2005401280_2</td>\n      <td>While previous work has concentrated on langua...</td>\n    </tr>\n    <tr>\n      <th>116759</th>\n      <td>T20.2_2005401280_3</td>\n      <td>In this paper, we present the reasons for hand...</td>\n    </tr>\n    <tr>\n      <th>116760</th>\n      <td>T20.2_2623951130_1</td>\n      <td>With software in the loop, a graphical user in...</td>\n    </tr>\n    <tr>\n      <th>116761</th>\n      <td>T20.2_2623951130_2</td>\n      <td>Students can write their own program everywher...</td>\n    </tr>\n    <tr>\n      <th>116762</th>\n      <td>T20.2_2623951130_3</td>\n      <td>They can run the same software on the physical...</td>\n    </tr>\n  </tbody>\n</table>\n<p>116763 rows × 2 columns</p>\n</div>"
     },
     "execution_count": 38,
     "metadata": {},
     "output_type": "execute_result"
    }
   ],
   "source": [
    "results = pd.concat([snt_id_column, result], axis=1)\n",
    "results"
   ],
   "metadata": {
    "collapsed": false,
    "pycharm": {
     "name": "#%%\n"
    }
   }
  },
  {
   "cell_type": "code",
   "execution_count": 39,
   "outputs": [],
   "source": [
    "results['run_id'] = \"CLARA-HD_1\"\n",
    "results['manual'] = 0"
   ],
   "metadata": {
    "collapsed": false,
    "pycharm": {
     "name": "#%%\n"
    }
   }
  },
  {
   "cell_type": "code",
   "execution_count": 40,
   "outputs": [
    {
     "data": {
      "text/plain": "            run_id  manual              snt_id  \\\n0       CLARA-HD_1       0  G01.1_1564531496_1   \n1       CLARA-HD_1       0  G01.1_1564531496_2   \n2       CLARA-HD_1       0  G01.1_1564531496_3   \n3       CLARA-HD_1       0  G01.1_1564531496_4   \n4       CLARA-HD_1       0  G01.1_1564531496_5   \n...            ...     ...                 ...   \n116758  CLARA-HD_1       0  T20.2_2005401280_2   \n116759  CLARA-HD_1       0  T20.2_2005401280_3   \n116760  CLARA-HD_1       0  T20.2_2623951130_1   \n116761  CLARA-HD_1       0  T20.2_2623951130_2   \n116762  CLARA-HD_1       0  T20.2_2623951130_3   \n\n                                           simplified_snt  \n0       In this short paper we describe the idea of a ...  \n1       A CDA is a mobile device similar to a Personal...  \n2       It supports the citizen when dealing with publ...  \n3       Requirements for secure and trusted interactio...  \n4       The Citizen Digital Assistant allows a person ...  \n...                                                   ...  \n116758  While previous work has concentrated on langua...  \n116759  In this paper, we present the reasons for hand...  \n116760  With software in the loop, a graphical user in...  \n116761  Students can write their own program everywher...  \n116762  They can run the same software on the physical...  \n\n[116763 rows x 4 columns]",
      "text/html": "<div>\n<style scoped>\n    .dataframe tbody tr th:only-of-type {\n        vertical-align: middle;\n    }\n\n    .dataframe tbody tr th {\n        vertical-align: top;\n    }\n\n    .dataframe thead th {\n        text-align: right;\n    }\n</style>\n<table border=\"1\" class=\"dataframe\">\n  <thead>\n    <tr style=\"text-align: right;\">\n      <th></th>\n      <th>run_id</th>\n      <th>manual</th>\n      <th>snt_id</th>\n      <th>simplified_snt</th>\n    </tr>\n  </thead>\n  <tbody>\n    <tr>\n      <th>0</th>\n      <td>CLARA-HD_1</td>\n      <td>0</td>\n      <td>G01.1_1564531496_1</td>\n      <td>In this short paper we describe the idea of a ...</td>\n    </tr>\n    <tr>\n      <th>1</th>\n      <td>CLARA-HD_1</td>\n      <td>0</td>\n      <td>G01.1_1564531496_2</td>\n      <td>A CDA is a mobile device similar to a Personal...</td>\n    </tr>\n    <tr>\n      <th>2</th>\n      <td>CLARA-HD_1</td>\n      <td>0</td>\n      <td>G01.1_1564531496_3</td>\n      <td>It supports the citizen when dealing with publ...</td>\n    </tr>\n    <tr>\n      <th>3</th>\n      <td>CLARA-HD_1</td>\n      <td>0</td>\n      <td>G01.1_1564531496_4</td>\n      <td>Requirements for secure and trusted interactio...</td>\n    </tr>\n    <tr>\n      <th>4</th>\n      <td>CLARA-HD_1</td>\n      <td>0</td>\n      <td>G01.1_1564531496_5</td>\n      <td>The Citizen Digital Assistant allows a person ...</td>\n    </tr>\n    <tr>\n      <th>...</th>\n      <td>...</td>\n      <td>...</td>\n      <td>...</td>\n      <td>...</td>\n    </tr>\n    <tr>\n      <th>116758</th>\n      <td>CLARA-HD_1</td>\n      <td>0</td>\n      <td>T20.2_2005401280_2</td>\n      <td>While previous work has concentrated on langua...</td>\n    </tr>\n    <tr>\n      <th>116759</th>\n      <td>CLARA-HD_1</td>\n      <td>0</td>\n      <td>T20.2_2005401280_3</td>\n      <td>In this paper, we present the reasons for hand...</td>\n    </tr>\n    <tr>\n      <th>116760</th>\n      <td>CLARA-HD_1</td>\n      <td>0</td>\n      <td>T20.2_2623951130_1</td>\n      <td>With software in the loop, a graphical user in...</td>\n    </tr>\n    <tr>\n      <th>116761</th>\n      <td>CLARA-HD_1</td>\n      <td>0</td>\n      <td>T20.2_2623951130_2</td>\n      <td>Students can write their own program everywher...</td>\n    </tr>\n    <tr>\n      <th>116762</th>\n      <td>CLARA-HD_1</td>\n      <td>0</td>\n      <td>T20.2_2623951130_3</td>\n      <td>They can run the same software on the physical...</td>\n    </tr>\n  </tbody>\n</table>\n<p>116763 rows × 4 columns</p>\n</div>"
     },
     "execution_count": 40,
     "metadata": {},
     "output_type": "execute_result"
    }
   ],
   "source": [
    "results = results[[\"run_id\", \"manual\", \"snt_id\", \"simplified_snt\"]]\n",
    "results"
   ],
   "metadata": {
    "collapsed": false,
    "pycharm": {
     "name": "#%%\n"
    }
   }
  },
  {
   "cell_type": "code",
   "execution_count": 41,
   "outputs": [],
   "source": [
    "results.to_csv(OUTPUT_TSV, sep=\"\\t\", index=False)"
   ],
   "metadata": {
    "collapsed": false,
    "pycharm": {
     "name": "#%%\n"
    }
   }
  },
  {
   "cell_type": "code",
   "execution_count": 44,
   "outputs": [],
   "source": [
    "results.to_json(OUTPUT_JSON, orient=\"records\")"
   ],
   "metadata": {
    "collapsed": false,
    "pycharm": {
     "name": "#%%\n"
    }
   }
  },
  {
   "cell_type": "code",
   "execution_count": null,
   "outputs": [],
   "source": [],
   "metadata": {
    "collapsed": false,
    "pycharm": {
     "name": "#%%\n"
    }
   }
  }
 ],
 "metadata": {
  "kernelspec": {
   "display_name": "Python 3",
   "language": "python",
   "name": "python3"
  },
  "language_info": {
   "codemirror_mode": {
    "name": "ipython",
    "version": 2
   },
   "file_extension": ".py",
   "mimetype": "text/x-python",
   "name": "python",
   "nbconvert_exporter": "python",
   "pygments_lexer": "ipython2",
   "version": "2.7.6"
  }
 },
 "nbformat": 4,
 "nbformat_minor": 0
}